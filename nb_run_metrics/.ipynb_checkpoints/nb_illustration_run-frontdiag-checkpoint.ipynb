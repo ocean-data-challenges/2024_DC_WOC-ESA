{
 "cells": [
  {
   "cell_type": "markdown",
   "id": "8aa24b23",
   "metadata": {},
   "source": [
    "![header](../figures/logos_partenaires_DC_WOC-ESA.jpg)"
   ]
  },
  {
   "cell_type": "markdown",
   "id": "d31b8ec9",
   "metadata": {},
   "source": [
    "# Velocity metrics package illustration: Run front diagnostics \n",
    "\n",
    "## Agulhas, BFN-QG\n",
    " \n",
    "\n",
    "***\n",
    "**Authors:** Datlas <br>\n",
    "**Copyright:** 2024 Datlas <br>\n",
    "**License:** MIT\n",
    "\n",
    "<div class=\"alert alert-block alert-success\">\n",
    "<h1><center>Agulhas: BFNQG currents maps</center></h1>\n",
    " <h5><center> The notebook aims to illustrate how to run the velocity metrics. Here, the example uses surface current maps produced by the BFN-QG in the Agulhas region.</center></h5>"
   ]
  },
  {
   "cell_type": "code",
   "execution_count": 1,
   "id": "a1cbbe36",
   "metadata": {},
   "outputs": [],
   "source": [
    "import velocity_metrics.fronts.compare_fronts_vel as compare_fronts_vel\n",
    "import velocity_metrics.fronts.box_metrics as box_metrics\n",
    "import sys  \n",
    "sys.path.remove('/Users/sammymetref/Documents/DataChallenges/DC_IW_crossoverCal/2022a_mapping_HFdynamic')\n",
    "sys.path.append('../')\n",
    "from src import utils"
   ]
  },
  {
   "cell_type": "markdown",
   "id": "4c1fe375",
   "metadata": {},
   "source": [
    "# Parameters"
   ]
  },
  {
   "cell_type": "markdown",
   "id": "54f86bcf",
   "metadata": {},
   "source": [
    "### Parameters and paths"
   ]
  },
  {
   "cell_type": "code",
   "execution_count": 2,
   "id": "89cabd47",
   "metadata": {},
   "outputs": [],
   "source": [
    "dirpath = '../dc_data/DC_example_BFNQG_Agulhas/'\n",
    "\n",
    "par_out = {\"pattern\": f'frontsvel_Agulhas_BFNQG_0m',\n",
    "               \"outdir\": dirpath + 'fronts_outputs_bfnqg'}\n",
    "\n",
    "front_rep = 'fronts_Agulhas/'\n",
    "front_pattern = 'seviri_sst_woc_t1'\n",
    "gradient_threshold = 0.01\n",
    "par_fronts = {\"dir_front\": dirpath+front_rep, \n",
    "              \"pattern\": front_pattern,\n",
    "              \"gradient_threshold\": gradient_threshold}\n",
    "\n",
    "data_type = dirpath + 'dictionnaries/data_type_metric_illustration_bfnqg.json'\n",
    "\n",
    "region = dirpath + 'dictionnaries/region_metric_illustration_Agulhas.json'\n",
    "\n",
    "first_date = '20190101T000000Z'\n",
    "\n",
    "last_date = '20190120T000000Z'\n",
    "\n",
    "\n",
    "outputplot = '../results/metrics_illustration/'\n"
   ]
  },
  {
   "cell_type": "code",
   "execution_count": 3,
   "id": "d4ff31b6",
   "metadata": {
    "scrolled": true
   },
   "outputs": [
    {
     "name": "stdout",
     "output_type": "stream",
     "text": [
      "Percent: [############################--] 95.00%, , "
     ]
    },
    {
     "name": "stderr",
     "output_type": "stream",
     "text": [
      "  0%|          | 0/21 [00:00<?, ?it/s]/Users/sammymetref/Documents/DataChallenges/Metrics_package/velocity_metrics/velocity_metrics/fronts/compare_fronts_vel.py:207: RuntimeWarning: invalid value encountered in true_divide\n",
      "  _u = _u/_norm\n",
      "/Users/sammymetref/Documents/DataChallenges/Metrics_package/velocity_metrics/velocity_metrics/fronts/compare_fronts_vel.py:208: RuntimeWarning: invalid value encountered in true_divide\n",
      "  _v = _v/_norm\n",
      "/Users/sammymetref/Documents/DataChallenges/Metrics_package/velocity_metrics/velocity_metrics/fronts/compare_fronts_vel.py:216: RuntimeWarning: invalid value encountered in true_divide\n",
      "  fu /= _vel\n",
      "/Users/sammymetref/Documents/DataChallenges/Metrics_package/velocity_metrics/velocity_metrics/fronts/compare_fronts_vel.py:217: RuntimeWarning: invalid value encountered in true_divide\n",
      "  fv /= _vel\n",
      "100%|██████████| 21/21 [00:00<00:00, 49.55it/s]\n"
     ]
    }
   ],
   "source": [
    "compare_fronts_vel.run(par_out, par_fronts, data_type,\n",
    "                           region=region, depth=0,\n",
    "                           first_date=first_date, \n",
    "                           last_date=last_date,\n",
    "                           syntool=False, ext='json')"
   ]
  },
  {
   "cell_type": "code",
   "execution_count": 4,
   "id": "c1bd70d8",
   "metadata": {},
   "outputs": [],
   "source": [
    "\n",
    "par_out = {\"pattern\": f'frontsvel_Agulhas_DUACS_0m',\n",
    "               \"outdir\": dirpath + 'fronts_outputs_duacs'}\n",
    "\n",
    "data_type = dirpath + 'dictionnaries/data_type_metric_illustration_duacs.json'"
   ]
  },
  {
   "cell_type": "code",
   "execution_count": 5,
   "id": "c71b5e6a",
   "metadata": {
    "scrolled": true
   },
   "outputs": [
    {
     "name": "stdout",
     "output_type": "stream",
     "text": [
      "Percent: [############################--] 95.00%, , "
     ]
    },
    {
     "name": "stderr",
     "output_type": "stream",
     "text": [
      "  0%|          | 0/21 [00:00<?, ?it/s]/Users/sammymetref/Documents/DataChallenges/Metrics_package/velocity_metrics/velocity_metrics/fronts/compare_fronts_vel.py:207: RuntimeWarning: invalid value encountered in true_divide\n",
      "  _u = _u/_norm\n",
      "/Users/sammymetref/Documents/DataChallenges/Metrics_package/velocity_metrics/velocity_metrics/fronts/compare_fronts_vel.py:208: RuntimeWarning: invalid value encountered in true_divide\n",
      "  _v = _v/_norm\n",
      "100%|██████████| 21/21 [00:00<00:00, 28.14it/s]\n"
     ]
    }
   ],
   "source": [
    "compare_fronts_vel.run(par_out, par_fronts, data_type,\n",
    "                           region=region, depth=0,\n",
    "                           first_date=first_date, last_date=last_date,\n",
    "                           syntool=False, ext='json')"
   ]
  },
  {
   "cell_type": "code",
   "execution_count": 6,
   "id": "aaa2d5cb",
   "metadata": {
    "scrolled": false
   },
   "outputs": [
    {
     "name": "stdout",
     "output_type": "stream",
     "text": [
      "10\n",
      "0\n",
      "0.00753495210564048\n",
      "duacs []\n"
     ]
    },
    {
     "ename": "KeyError",
     "evalue": "'flux_across'",
     "output_type": "error",
     "traceback": [
      "\u001b[0;31m---------------------------------------------------------------------------\u001b[0m",
      "\u001b[0;31mKeyError\u001b[0m                                  Traceback (most recent call last)",
      "\u001b[0;32m<ipython-input-6-16846d0013cb>\u001b[0m in \u001b[0;36m<module>\u001b[0;34m()\u001b[0m\n\u001b[1;32m      4\u001b[0m                 \u001b[0mlast_date\u001b[0m \u001b[0;34m=\u001b[0m\u001b[0;34m'20190120T000000Z'\u001b[0m\u001b[0;34m,\u001b[0m\u001b[0;34m\u001b[0m\u001b[0;34m\u001b[0m\u001b[0m\n\u001b[1;32m      5\u001b[0m                 \u001b[0moutput_dir\u001b[0m\u001b[0;34m=\u001b[0m\u001b[0moutputplot\u001b[0m\u001b[0;34m,\u001b[0m\u001b[0;34m\u001b[0m\u001b[0;34m\u001b[0m\u001b[0m\n\u001b[0;32m----> 6\u001b[0;31m                 plot=True)\n\u001b[0m",
      "\u001b[0;32m~/Documents/DataChallenges/Metrics_package/velocity_metrics/velocity_metrics/fronts/box_metrics.py\u001b[0m in \u001b[0;36mrun\u001b[0;34m(config_json, dbox, first_date, last_date, number_of_days, output_dir, plot)\u001b[0m\n\u001b[1;32m    601\u001b[0m         \u001b[0mstop\u001b[0m \u001b[0;34m=\u001b[0m \u001b[0mdatetime\u001b[0m\u001b[0;34m.\u001b[0m\u001b[0mdatetime\u001b[0m\u001b[0;34m.\u001b[0m\u001b[0mstrptime\u001b[0m\u001b[0;34m(\u001b[0m\u001b[0mlast_date\u001b[0m\u001b[0;34m,\u001b[0m \u001b[0m_fmt\u001b[0m\u001b[0;34m)\u001b[0m\u001b[0;34m\u001b[0m\u001b[0;34m\u001b[0m\u001b[0m\n\u001b[1;32m    602\u001b[0m         _dic = box_metrics(par, dbox, start, stop,\n\u001b[0;32m--> 603\u001b[0;31m                            output_dir=output_dir, isplot=plot)\n\u001b[0m\u001b[1;32m    604\u001b[0m         \u001b[0mdic_list\u001b[0m\u001b[0;34m[\u001b[0m\u001b[0;34mf'{first_date}_{last_date}'\u001b[0m\u001b[0;34m]\u001b[0m \u001b[0;34m=\u001b[0m \u001b[0m_dic\u001b[0m\u001b[0;34m\u001b[0m\u001b[0;34m\u001b[0m\u001b[0m\n\u001b[1;32m    605\u001b[0m     \u001b[0;32melse\u001b[0m\u001b[0;34m:\u001b[0m\u001b[0;34m\u001b[0m\u001b[0;34m\u001b[0m\u001b[0m\n",
      "\u001b[0;32m~/Documents/DataChallenges/Metrics_package/velocity_metrics/velocity_metrics/fronts/box_metrics.py\u001b[0m in \u001b[0;36mbox_metrics\u001b[0;34m(par, dbox, start, stop, output_dir, isplot)\u001b[0m\n\u001b[1;32m    640\u001b[0m                             \u001b[0mthresh_perc\u001b[0m\u001b[0;34m=\u001b[0m\u001b[0mthperc\u001b[0m\u001b[0;34m,\u001b[0m\u001b[0;34m\u001b[0m\u001b[0;34m\u001b[0m\u001b[0m\n\u001b[1;32m    641\u001b[0m                             \u001b[0mthreshold_vel\u001b[0m\u001b[0;34m=\u001b[0m\u001b[0mpar\u001b[0m\u001b[0;34m[\u001b[0m\u001b[0;34m'global'\u001b[0m\u001b[0;34m]\u001b[0m\u001b[0;34m[\u001b[0m\u001b[0;34m'velocity_threshold'\u001b[0m\u001b[0;34m]\u001b[0m\u001b[0;34m,\u001b[0m\u001b[0;34m\u001b[0m\u001b[0;34m\u001b[0m\u001b[0m\n\u001b[0;32m--> 642\u001b[0;31m                             threshold_grad=par['global']['gradient_threshold'])\n\u001b[0m\u001b[1;32m    643\u001b[0m     \u001b[0m_list\u001b[0m \u001b[0;34m=\u001b[0m \u001b[0mlist\u001b[0m\u001b[0;34m(\u001b[0m\u001b[0mdic_dir\u001b[0m\u001b[0;34m.\u001b[0m\u001b[0mkeys\u001b[0m\u001b[0;34m(\u001b[0m\u001b[0;34m)\u001b[0m\u001b[0;34m)\u001b[0m\u001b[0;34m\u001b[0m\u001b[0;34m\u001b[0m\u001b[0m\n\u001b[1;32m    644\u001b[0m     \u001b[0m_listmodel\u001b[0m \u001b[0;34m=\u001b[0m \u001b[0;34m[\u001b[0m\u001b[0;34mf\"{i}: {key}\"\u001b[0m \u001b[0;32mfor\u001b[0m \u001b[0mi\u001b[0m\u001b[0;34m,\u001b[0m \u001b[0mkey\u001b[0m \u001b[0;32min\u001b[0m \u001b[0menumerate\u001b[0m\u001b[0;34m(\u001b[0m\u001b[0m_list\u001b[0m\u001b[0;34m)\u001b[0m\u001b[0;34m]\u001b[0m\u001b[0;34m\u001b[0m\u001b[0;34m\u001b[0m\u001b[0m\n",
      "\u001b[0;32m~/Documents/DataChallenges/Metrics_package/velocity_metrics/velocity_metrics/fronts/box_metrics.py\u001b[0m in \u001b[0;36mprocess_list\u001b[0;34m(dic_directory, list_var, box, nvar, dbox, start, stop, flag_front_threshold, thresh_perc, threshold_vel, threshold_grad)\u001b[0m\n\u001b[1;32m    105\u001b[0m             \u001b[0mprint\u001b[0m\u001b[0;34m(\u001b[0m\u001b[0mbn\u001b[0m\u001b[0;34m,\u001b[0m \u001b[0midir\u001b[0m\u001b[0;34m)\u001b[0m\u001b[0;34m\u001b[0m\u001b[0;34m\u001b[0m\u001b[0m\n\u001b[1;32m    106\u001b[0m         result[nvar] = mask_values(result, nvar, threshold_vel=threshold_vel,\n\u001b[0;32m--> 107\u001b[0;31m                                    threshold_grad=threshold_grad)\n\u001b[0m\u001b[1;32m    108\u001b[0m         \u001b[0mdic_flatten_dic\u001b[0m\u001b[0;34m[\u001b[0m\u001b[0mbn\u001b[0m\u001b[0;34m]\u001b[0m \u001b[0;34m=\u001b[0m \u001b[0mresult\u001b[0m\u001b[0;34m.\u001b[0m\u001b[0mcopy\u001b[0m\u001b[0;34m(\u001b[0m\u001b[0;34m)\u001b[0m\u001b[0;34m\u001b[0m\u001b[0;34m\u001b[0m\u001b[0m\n\u001b[1;32m    109\u001b[0m         \u001b[0mpyplot\u001b[0m\u001b[0;34m.\u001b[0m\u001b[0mhist\u001b[0m\u001b[0;34m(\u001b[0m\u001b[0mresult\u001b[0m\u001b[0;34m[\u001b[0m\u001b[0mnvar\u001b[0m\u001b[0;34m]\u001b[0m\u001b[0;34m[\u001b[0m\u001b[0;34m~\u001b[0m\u001b[0mnumpy\u001b[0m\u001b[0;34m.\u001b[0m\u001b[0misnan\u001b[0m\u001b[0;34m(\u001b[0m\u001b[0mresult\u001b[0m\u001b[0;34m[\u001b[0m\u001b[0mnvar\u001b[0m\u001b[0;34m]\u001b[0m\u001b[0;34m)\u001b[0m\u001b[0;34m]\u001b[0m\u001b[0;34m,\u001b[0m \u001b[0malpha\u001b[0m\u001b[0;34m=\u001b[0m\u001b[0;36m0.3\u001b[0m\u001b[0;34m)\u001b[0m\u001b[0;34m\u001b[0m\u001b[0;34m\u001b[0m\u001b[0m\n",
      "\u001b[0;32m~/Documents/DataChallenges/Metrics_package/velocity_metrics/velocity_metrics/fronts/box_metrics.py\u001b[0m in \u001b[0;36mmask_values\u001b[0;34m(dic_in, nvar, threshold_vel, threshold_grad)\u001b[0m\n\u001b[1;32m     54\u001b[0m         \u001b[0mArray\u001b[0m \u001b[0;32mwith\u001b[0m \u001b[0mmasked\u001b[0m \u001b[0mvalues\u001b[0m\u001b[0;34m\u001b[0m\u001b[0;34m\u001b[0m\u001b[0m\n\u001b[1;32m     55\u001b[0m     \"\"\"\n\u001b[0;32m---> 56\u001b[0;31m     \u001b[0m_arr\u001b[0m \u001b[0;34m=\u001b[0m \u001b[0mnumpy\u001b[0m\u001b[0;34m.\u001b[0m\u001b[0marray\u001b[0m\u001b[0;34m(\u001b[0m\u001b[0mdic_in\u001b[0m\u001b[0;34m[\u001b[0m\u001b[0mnvar\u001b[0m\u001b[0;34m]\u001b[0m\u001b[0;34m)\u001b[0m\u001b[0;34m\u001b[0m\u001b[0;34m\u001b[0m\u001b[0m\n\u001b[0m\u001b[1;32m     57\u001b[0m     \u001b[0m_arr\u001b[0m\u001b[0;34m[\u001b[0m\u001b[0m_arr\u001b[0m \u001b[0;34m==\u001b[0m \u001b[0;36m0\u001b[0m\u001b[0;34m]\u001b[0m \u001b[0;34m=\u001b[0m \u001b[0mnumpy\u001b[0m\u001b[0;34m.\u001b[0m\u001b[0mnan\u001b[0m\u001b[0;34m\u001b[0m\u001b[0;34m\u001b[0m\u001b[0m\n\u001b[1;32m     58\u001b[0m     \u001b[0m_mask\u001b[0m \u001b[0;34m=\u001b[0m \u001b[0mnumpy\u001b[0m\u001b[0;34m.\u001b[0m\u001b[0mwhere\u001b[0m\u001b[0;34m(\u001b[0m\u001b[0m_arr\u001b[0m \u001b[0;34m>\u001b[0m \u001b[0;36m0.99\u001b[0m\u001b[0;34m)\u001b[0m\u001b[0;34m\u001b[0m\u001b[0;34m\u001b[0m\u001b[0m\n",
      "\u001b[0;31mKeyError\u001b[0m: 'flux_across'"
     ]
    },
    {
     "data": {
      "image/png": "[encoded data removed]",
      "text/plain": [
       "<Figure size 432x288 with 1 Axes>"
      ]
     },
     "metadata": {
      "needs_background": "light"
     },
     "output_type": "display_data"
    }
   ],
   "source": [
    "\n",
    "dic_list = box_metrics.run(dirpath+'dictionnaries/config_fronts.json', 2, \n",
    "                first_date='20190110T000000Z',\n",
    "                last_date ='20190120T000000Z',\n",
    "                output_dir=outputplot, \n",
    "                plot=True)"
   ]
  },
  {
   "cell_type": "code",
   "execution_count": null,
   "id": "bbc2c696",
   "metadata": {},
   "outputs": [],
   "source": []
  },
  {
   "cell_type": "code",
   "execution_count": null,
   "id": "7cc9a467",
   "metadata": {},
   "outputs": [],
   "source": []
  }
 ],
 "metadata": {
  "kernelspec": {
   "display_name": "Python 3",
   "language": "python",
   "name": "python3"
  },
  "language_info": {
   "codemirror_mode": {
    "name": "ipython",
    "version": 3
   },
   "file_extension": ".py",
   "mimetype": "text/x-python",
   "name": "python",
   "nbconvert_exporter": "python",
   "pygments_lexer": "ipython3",
   "version": "3.6.13"
  }
 },
 "nbformat": 4,
 "nbformat_minor": 5
}
