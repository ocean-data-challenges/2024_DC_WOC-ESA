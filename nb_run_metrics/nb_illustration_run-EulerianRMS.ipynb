{
 "cells": [
  {
   "cell_type": "markdown",
   "id": "f9b36dc7",
   "metadata": {},
   "source": [
    "![header](../figures/logos_partenaires_DC_WOC-ESA.jpg)"
   ]
  },
  {
   "cell_type": "markdown",
   "id": "4b1fb32d",
   "metadata": {},
   "source": [
    "# Velocity metrics package illustration (Agulhas, BFNQG-DUACS-MIOST)\n",
    " \n",
    "\n",
    "***\n",
    "**Authors:** Datlas <br>\n",
    "**Copyright:** 2023 Datlas <br>\n",
    "**License:** MIT\n",
    "\n",
    "<div class=\"alert alert-block alert-success\">\n",
    "<h1><center>Agulhas: BFNQG-DUACS-MIOST currents maps</center></h1>\n",
    " <h5><center> The notebook aims to evaluate the surface current maps produced by the BFN-QG, DUACS and MIOST in the Agulhas region.</center></h5> "
   ]
  },
  {
   "cell_type": "code",
   "execution_count": 1,
   "id": "adad8af5",
   "metadata": {},
   "outputs": [],
   "source": [
    "\n",
    "import velocity_metrics.utils.constant as const \n",
    "import velocity_metrics.eulerian.eulerian_drifters as eulerian  \n"
   ]
  },
  {
   "cell_type": "code",
   "execution_count": 2,
   "id": "44269f1d",
   "metadata": {},
   "outputs": [],
   "source": [
    "from glob import glob\n",
    "import numpy as np\n",
    "import os\n",
    "import sys \n",
    "import warnings\n",
    "import datetime\n",
    "warnings.filterwarnings(\"ignore\")"
   ]
  },
  {
   "cell_type": "code",
   "execution_count": 3,
   "id": "ebb8c9da",
   "metadata": {},
   "outputs": [],
   "source": [
    "sys.path.append('../')\n",
    "from src import utils"
   ]
  },
  {
   "cell_type": "code",
   "execution_count": 4,
   "id": "55492b01",
   "metadata": {},
   "outputs": [],
   "source": [
    "outputdir = '../results/metrics_illustration/'\n",
    "\n",
    "path_dict_product =   '../nb_run_metrics/data_type_metric_illustration_bfnqg.json' \n",
    " \n",
    "path_dict_region = '../nb_run_metrics/region_metric_illustration_Agulhas.json'\n",
    "\n",
    "depth = 0"
   ]
  },
  {
   "cell_type": "code",
   "execution_count": 10,
   "id": "cba14f51",
   "metadata": {},
   "outputs": [],
   "source": [
    "drifter_list = ['../dc_data/drifter_pickle/Drifters_AOML_region_T1_00m_20190101T000000Z_20200101T000000Z.pyo']\n",
    "\n",
    "first_date = datetime.datetime.strptime('20190101T000000Z', const.FMT)\n",
    "last_date  = datetime.datetime.strptime('20190201T000000Z', const.FMT) "
   ]
  },
  {
   "cell_type": "markdown",
   "id": "5d2d3985",
   "metadata": {},
   "source": [
    "# 1. Eulerian RMS computation"
   ]
  },
  {
   "cell_type": "code",
   "execution_count": 11,
   "id": "c898dbff",
   "metadata": {},
   "outputs": [
    {
     "name": "stdout",
     "output_type": "stream",
     "text": [
      "Percent: [#############################-] 96.77%, , {'Eastward error': 0.13645396828576628, 'Northward error': 0.25197804089305736, 'Norm error': 0.19975036916165262, 'Direction error': 120.66665309050158, 'Eastward speed': 0.12382167755245976, 'Northward speed': 0.33873428883482914, 'Field speed': 0.36144414624872145, 'Drifter speed': 0.391062450303882, 'percentage': 47.78737930057209}\n"
     ]
    }
   ],
   "source": [
    "\n",
    "\n",
    "for path_dict_product in [path_dict_product]:\n",
    "    eulerian.run(drifter_list, \n",
    "                          path_dict_product, \n",
    "                          first_date=first_date,\n",
    "                          last_date=last_date, \n",
    "                          region=path_dict_region,\n",
    "                          sdepth=1, \n",
    "                          output_dir=outputdir\n",
    "                          )\n"
   ]
  },
  {
   "cell_type": "markdown",
   "id": "82d520e7",
   "metadata": {},
   "source": [
    "# 2. Eulerian RMS array outputs (Mean and std)"
   ]
  },
  {
   "cell_type": "code",
   "execution_count": 12,
   "id": "06820475",
   "metadata": {},
   "outputs": [
    {
     "data": {
      "text/html": [
       "<table width=100%>\n",
       "<tr>\n",
       "<td><b>Mean</b></td>\n",
       "<td>Eastward error</td>\n",
       "<td>Northward error</td>\n",
       "<td>Norm error</td>\n",
       "<td>Direction error</td>\n",
       "<td>Eastward speed</td>\n",
       "<td>Northward speed</td>\n",
       "<td>Field speed</td>\n",
       "<td>Drifter speed</td>\n",
       "<td>percentage</td>\n",
       "</tr>\n",
       "<tr>\n",
       "<td><b>BFN-QG</b></td>\n",
       "<td>0.136</td>\n",
       "<td>0.252</td>\n",
       "<td>0.200</td>\n",
       "<td>120.667</td>\n",
       "<td>0.124</td>\n",
       "<td>0.339</td>\n",
       "<td>0.361</td>\n",
       "<td>0.391</td>\n",
       "<td>47.787</td>\n",
       "</tr>\n",
       "</table>"
      ],
      "text/plain": [
       "<src.utils.DictTable at 0x7fa7ee00d2b0>"
      ]
     },
     "execution_count": 12,
     "metadata": {},
     "output_type": "execute_result"
    }
   ],
   "source": [
    "\n",
    "list_dict = [{'type_stat':'Mean','path':outputdir+'Eulerian_RMS_mean_BFNQG1.pyo','name':'BFN-QG'}] \n",
    "\n",
    "utils.DictTable(list_dict)  "
   ]
  },
  {
   "cell_type": "code",
   "execution_count": 13,
   "id": "a24625d7",
   "metadata": {},
   "outputs": [
    {
     "data": {
      "text/html": [
       "<table width=100%>\n",
       "<tr>\n",
       "<td><b>std</b></td>\n",
       "<td>Eastward error</td>\n",
       "<td>Northward error</td>\n",
       "<td>Norm error</td>\n",
       "<td>Direction error</td>\n",
       "<td>Eastward speed</td>\n",
       "<td>Northward speed</td>\n",
       "<td>Field speed</td>\n",
       "<td>Drifter speed</td>\n",
       "<td>percentage</td>\n",
       "</tr>\n",
       "<tr>\n",
       "<td><b>BFN-QG</b></td>\n",
       "<td>0.064</td>\n",
       "<td>0.149</td>\n",
       "<td>0.125</td>\n",
       "<td>83.692</td>\n",
       "<td>0.116</td>\n",
       "<td>0.336</td>\n",
       "<td>0.216</td>\n",
       "<td>0.195</td>\n",
       "<td>0.174</td>\n",
       "</tr>\n",
       "</table>"
      ],
      "text/plain": [
       "<src.utils.DictTable at 0x7fa7ee00d0b8>"
      ]
     },
     "execution_count": 13,
     "metadata": {},
     "output_type": "execute_result"
    }
   ],
   "source": [
    "\n",
    "list_dict = [{'type_stat':'std','path':outputdir+'Eulerian_RMS_std_BFNQG1.pyo','name':'BFN-QG'}] \n",
    "\n",
    "utils.DictTable(list_dict)  "
   ]
  },
  {
   "cell_type": "code",
   "execution_count": null,
   "id": "be36ed1e",
   "metadata": {},
   "outputs": [],
   "source": []
  },
  {
   "cell_type": "code",
   "execution_count": null,
   "id": "66fd3cb9",
   "metadata": {},
   "outputs": [],
   "source": []
  },
  {
   "cell_type": "code",
   "execution_count": null,
   "id": "06928d3e",
   "metadata": {},
   "outputs": [],
   "source": []
  },
  {
   "cell_type": "code",
   "execution_count": null,
   "id": "89a7b410",
   "metadata": {},
   "outputs": [],
   "source": []
  },
  {
   "cell_type": "code",
   "execution_count": null,
   "id": "154184a9",
   "metadata": {},
   "outputs": [],
   "source": []
  },
  {
   "cell_type": "code",
   "execution_count": null,
   "id": "a202e993",
   "metadata": {},
   "outputs": [],
   "source": []
  },
  {
   "cell_type": "markdown",
   "id": "61b67332",
   "metadata": {},
   "source": [
    "### Functions needed for the DC visualization"
   ]
  },
  {
   "cell_type": "code",
   "execution_count": null,
   "id": "218f5bc2",
   "metadata": {},
   "outputs": [],
   "source": [
    "class DictTable():\n",
    "    # Overridden dict class which takes a dict in the form {'a': 2, 'b': 3},\n",
    "    # and renders an HTML Table in IPython Notebook.\n",
    "    def __init__(self,list):\n",
    "        self.html_table = None\n",
    "        self.list = list\n",
    "        \n",
    "    def _repr_html_(self):\n",
    "        filehandler = open(self.list[0]['path'], 'rb') \n",
    "        object = pickle.load(filehandler)\n",
    "        html = [\"<table width=100%>\"] \n",
    "        html.append(\"<tr>\")\n",
    "        html.append(\"<td><b>{0}</b></td>\".format(self.list[0]['type_stat']))  \n",
    "        for key, value in object.items():\n",
    "            html.append(\"<td>{0}</td>\".format(key)) \n",
    "        html.append(\"</tr>\") \n",
    "        \n",
    "        for dict in self.list: \n",
    "            \n",
    "            filehandler = open(dict['path'], 'rb') \n",
    "            object = pickle.load(filehandler)\n",
    "            html.append(\"<tr>\") \n",
    "            html.append(\"<td><b>{0}</b></td>\".format(dict['name']))  \n",
    "            for key, value in object.items():\n",
    "                html.append(\"<td>{0}</td>\".format(\"{:.3f}\".format(value)))\n",
    "            html.append(\"</tr>\")\n",
    "            \n",
    "        html.append(\"</table>\")  \n",
    "        \n",
    "        self.html_table = '\\n'.join(html)\n",
    "            \n",
    "        return self.html_table"
   ]
  }
 ],
 "metadata": {
  "kernelspec": {
   "display_name": "Python 3",
   "language": "python",
   "name": "python3"
  },
  "language_info": {
   "codemirror_mode": {
    "name": "ipython",
    "version": 3
   },
   "file_extension": ".py",
   "mimetype": "text/x-python",
   "name": "python",
   "nbconvert_exporter": "python",
   "pygments_lexer": "ipython3",
   "version": "3.6.13"
  }
 },
 "nbformat": 4,
 "nbformat_minor": 5
}
