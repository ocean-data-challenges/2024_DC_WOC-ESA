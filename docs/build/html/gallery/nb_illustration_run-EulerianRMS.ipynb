{
 "cells": [
  {
   "cell_type": "markdown",
   "id": "14e71f5f",
   "metadata": {},
   "source": [
    "# Run Eulerian RMS"
   ]
  },
  {
   "cell_type": "markdown",
   "id": "b958c5db",
   "metadata": {},
   "source": [
    "![header](../figures/logos_partenaires_DC_WOC-ESA.jpg)"
   ]
  },
  {
   "cell_type": "markdown",
   "id": "ab9a7159",
   "metadata": {},
   "source": [
    "## Velocity metrics package illustration: Run Eulerian RMS\n",
    " \n",
    "\n",
    "## Agulhas, BFN-QG\n",
    " \n"
   ]
  },
  {
   "cell_type": "markdown",
   "id": "8b18f015",
   "metadata": {},
   "source": [
    "\n",
    "***\n",
    "**Authors:** Datlas <br>\n",
    "**Copyright:** 2024 Datlas <br>\n",
    "**License:** MIT\n",
    "\n",
    "<div class=\"alert alert-block alert-success\">\n",
    "<h1><center>Agulhas: BFNQG currents maps</center></h1>\n",
    " <h5><center> The notebook aims to illustrate how to run the velocity metrics. Here, the example uses surface current maps produced by the BFN-QG in the Agulhas region.</center></h5>\n",
    "</div>"
   ]
  },
  {
   "cell_type": "code",
   "execution_count": 7,
   "id": "82394b29",
   "metadata": {},
   "outputs": [],
   "source": [
    "import velocity_metrics.utils.constant as const \n",
    "import velocity_metrics.eulerian.eulerian_drifters as eulerian  "
   ]
  },
  {
   "cell_type": "code",
   "execution_count": 8,
   "id": "069e3bc2",
   "metadata": {},
   "outputs": [],
   "source": [
    "import datetime\n",
    "import sys   \n",
    "sys.path.append('../')\n",
    "\n",
    "from src import utils"
   ]
  },
  {
   "cell_type": "markdown",
   "id": "d2592f50",
   "metadata": {},
   "source": [
    "## Parameters"
   ]
  },
  {
   "cell_type": "markdown",
   "id": "73305831",
   "metadata": {},
   "source": [
    "### Input directories"
   ]
  },
  {
   "cell_type": "code",
   "execution_count": 9,
   "id": "a6472065",
   "metadata": {},
   "outputs": [],
   "source": [
    "input_dict = '../dc_data/DC_example_BFNQG_Agulhas/dictionnaries/'\n",
    "input_drifter = '../dc_data/drifter/'"
   ]
  },
  {
   "cell_type": "markdown",
   "id": "926986e2",
   "metadata": {},
   "source": [
    "### Output directory"
   ]
  },
  {
   "cell_type": "code",
   "execution_count": 10,
   "id": "c9e3b007",
   "metadata": {},
   "outputs": [],
   "source": [
    "outputdir = '../results/metrics_illustration/'"
   ]
  },
  {
   "cell_type": "markdown",
   "id": "78d1bdae",
   "metadata": {},
   "source": [
    "### Evaluated maps parameters"
   ]
  },
  {
   "cell_type": "code",
   "execution_count": 11,
   "id": "6a797f83",
   "metadata": {},
   "outputs": [],
   "source": [
    "path_dict_product = input_dict+'data_type_metric_illustration_bfnqg.json' \n",
    "\n",
    "depth = 0"
   ]
  },
  {
   "cell_type": "markdown",
   "id": "784764ae",
   "metadata": {},
   "source": [
    "### Region parameters"
   ]
  },
  {
   "cell_type": "code",
   "execution_count": 12,
   "id": "680d022b",
   "metadata": {},
   "outputs": [],
   "source": [
    "path_dict_region = input_dict+'region_metric_illustration_Agulhas.json'"
   ]
  },
  {
   "cell_type": "markdown",
   "id": "7ad27563",
   "metadata": {},
   "source": [
    "### Drifter parameters"
   ]
  },
  {
   "cell_type": "code",
   "execution_count": 15,
   "id": "1f412352",
   "metadata": {},
   "outputs": [],
   "source": [
    "drifter_list = [input_drifter+'Drifters_AOML_region_T1_00m_20190101T000000Z_20200101T000000Z.pyo.gz']\n",
    "\n",
    "first_date = datetime.datetime.strptime('20190101T000000Z', const.FMT)\n",
    "last_date  = datetime.datetime.strptime('20190201T000000Z', const.FMT) "
   ]
  },
  {
   "cell_type": "markdown",
   "id": "eb3ded45",
   "metadata": {},
   "source": [
    "## 1. Eulerian RMS computation"
   ]
  },
  {
   "cell_type": "code",
   "execution_count": 16,
   "id": "efca7a5b",
   "metadata": {},
   "outputs": [
    {
     "name": "stdout",
     "output_type": "stream",
     "text": [
      "Percent: [#############################-] 96.77%, , "
     ]
    },
    {
     "name": "stderr",
     "output_type": "stream",
     "text": [
      "Compute and save statistics in ../results/metrics_illustration/ directory\n"
     ]
    }
   ],
   "source": [
    "eulerian.run(drifter_list, path_dict_product, \n",
    "             first_date=first_date, last_date=last_date, \n",
    "             region=path_dict_region, sdepth=1, output_dir=outputdir) "
   ]
  },
  {
   "cell_type": "markdown",
   "id": "bde19a0d",
   "metadata": {},
   "source": [
    "## 2. Eulerian RMS array outputs (Mean and std)"
   ]
  },
  {
   "cell_type": "code",
   "execution_count": 18,
   "id": "9fc28dda",
   "metadata": {},
   "outputs": [
    {
     "data": {
      "text/html": [
       "<table width=100%>\n",
       "<tr>\n",
       "<td><b>Mean</b></td>\n",
       "<td>Norm Quadratic Error (%)</td>\n",
       "<td>Norm Explained Variance (%)</td>\n",
       "<td>Norm Correlation</td>\n",
       "<td>Norm RMSD</td>\n",
       "<td>Number of Points</td>\n",
       "</tr>\n",
       "<tr>\n",
       "<td><b>BFN-QG</b></td>\n",
       "<td>38.848</td>\n",
       "<td>87.128</td>\n",
       "<td>0.698</td>\n",
       "<td>0.317</td>\n",
       "<td>2890.000</td>\n",
       "</tr>\n",
       "</table>"
      ],
      "text/plain": [
       "<src.utils.DictTable at 0x1278f6d20>"
      ]
     },
     "execution_count": 18,
     "metadata": {},
     "output_type": "execute_result"
    }
   ],
   "source": [
    "\n",
    "list_dict = [{'type_stat':'Mean','path':outputdir+'Eulerian_RMS_BFNQG1.pyo','name':'BFN-QG'}] \n",
    "\n",
    "utils.DictTable(list_dict)  "
   ]
  },
  {
   "cell_type": "code",
   "execution_count": 20,
   "id": "0577ee18",
   "metadata": {},
   "outputs": [
    {
     "data": {
      "text/html": [
       "<table width=100%>\n",
       "<tr>\n",
       "<td><b>STD</b></td>\n",
       "<td>Direction difference</td>\n",
       "<td>Number of Points</td>\n",
       "</tr>\n",
       "<tr>\n",
       "<td><b>BFN-QG</b></td>\n",
       "<td>45.014</td>\n",
       "<td>2890.000</td>\n",
       "</tr>\n",
       "</table>"
      ],
      "text/plain": [
       "<src.utils.DictTable at 0x129e7a6c0>"
      ]
     },
     "execution_count": 20,
     "metadata": {},
     "output_type": "execute_result"
    }
   ],
   "source": [
    "\n",
    "list_dict = [{'type_stat':'STD','path':outputdir+'Eulerian_STD_BFNQG1.pyo','name':'BFN-QG'}] \n",
    "\n",
    "utils.DictTable(list_dict,['Direction difference', 'Number of Points'])  "
   ]
  },
  {
   "cell_type": "code",
   "execution_count": null,
   "id": "a0aabbbc",
   "metadata": {},
   "outputs": [],
   "source": []
  }
 ],
 "metadata": {
  "kernelspec": {
   "display_name": "velocity_metrics",
   "language": "python",
   "name": "velocity_metrics"
  },
  "language_info": {
   "codemirror_mode": {
    "name": "ipython",
    "version": 3
   },
   "file_extension": ".py",
   "mimetype": "text/x-python",
   "name": "python",
   "nbconvert_exporter": "python",
   "pygments_lexer": "ipython3",
   "version": "3.12.4"
  }
 },
 "nbformat": 4,
 "nbformat_minor": 5
}
