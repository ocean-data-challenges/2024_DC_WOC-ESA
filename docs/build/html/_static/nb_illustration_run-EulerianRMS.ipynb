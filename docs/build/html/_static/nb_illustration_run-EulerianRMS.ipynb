{
 "cells": [
  {
   "cell_type": "markdown",
   "id": "dfc53528",
   "metadata": {},
   "source": [
    "![header](../figures/logos_partenaires_DC_WOC-ESA.jpg)"
   ]
  },
  {
   "cell_type": "markdown",
   "id": "1085fd76",
   "metadata": {},
   "source": [
    "# Velocity metrics package illustration: Run Eulerian RMS\n",
    " \n",
    "\n",
    "## Agulhas, BFN-QG\n",
    " \n",
    "\n",
    "***\n",
    "**Authors:** Datlas <br>\n",
    "**Copyright:** 2024 Datlas <br>\n",
    "**License:** MIT\n",
    "\n",
    "<div class=\"alert alert-block alert-success\">\n",
    "<h1><center>Agulhas: BFNQG currents maps</center></h1>\n",
    " <h5><center> The notebook aims to illustrate how to run the velocity metrics. Here, the example uses surface current maps produced by the BFN-QG in the Agulhas region.</center></h5>"
   ]
  },
  {
   "cell_type": "code",
   "execution_count": 1,
   "id": "c4009c5b",
   "metadata": {},
   "outputs": [],
   "source": [
    "import velocity_metrics.utils.constant as const \n",
    "import velocity_metrics.eulerian.eulerian_drifters as eulerian  "
   ]
  },
  {
   "cell_type": "code",
   "execution_count": 2,
   "id": "3fe63026",
   "metadata": {},
   "outputs": [],
   "source": [
    "import datetime\n",
    "import sys   \n",
    "sys.path.append('../')\n",
    "\n",
    "from src import utils"
   ]
  },
  {
   "cell_type": "markdown",
   "id": "4ff90598",
   "metadata": {},
   "source": [
    "# Parameters"
   ]
  },
  {
   "cell_type": "markdown",
   "id": "d5a4a339",
   "metadata": {},
   "source": [
    "### Output directory"
   ]
  },
  {
   "cell_type": "code",
   "execution_count": 3,
   "id": "14c60cbc",
   "metadata": {},
   "outputs": [],
   "source": [
    "outputdir = '../results/metrics_illustration/'"
   ]
  },
  {
   "cell_type": "markdown",
   "id": "276ec48c",
   "metadata": {},
   "source": [
    "### Evaluated maps parameters"
   ]
  },
  {
   "cell_type": "code",
   "execution_count": 4,
   "id": "9000b98d",
   "metadata": {},
   "outputs": [],
   "source": [
    "path_dict_product =   '../nb_run_metrics/data_type_metric_illustration_bfnqg.json' \n",
    "\n",
    "depth = 0"
   ]
  },
  {
   "cell_type": "markdown",
   "id": "14cf58d0",
   "metadata": {},
   "source": [
    "### Region parameters"
   ]
  },
  {
   "cell_type": "code",
   "execution_count": 5,
   "id": "eab5c451",
   "metadata": {},
   "outputs": [],
   "source": [
    "path_dict_region = '../nb_run_metrics/region_metric_illustration_Agulhas.json'"
   ]
  },
  {
   "cell_type": "markdown",
   "id": "432daa59",
   "metadata": {},
   "source": [
    "### Drifter parameters"
   ]
  },
  {
   "cell_type": "code",
   "execution_count": 6,
   "id": "4ec7640b",
   "metadata": {},
   "outputs": [],
   "source": [
    "drifter_list = ['../dc_data/drifter_pickle/Drifters_AOML_region_T1_00m_20190101T000000Z_20200101T000000Z.pyo']\n",
    "\n",
    "first_date = datetime.datetime.strptime('20190101T000000Z', const.FMT)\n",
    "last_date  = datetime.datetime.strptime('20190201T000000Z', const.FMT) "
   ]
  },
  {
   "cell_type": "markdown",
   "id": "1251f321",
   "metadata": {},
   "source": [
    "# 1. Eulerian RMS computation"
   ]
  },
  {
   "cell_type": "code",
   "execution_count": 7,
   "id": "e8ca9195",
   "metadata": {},
   "outputs": [
    {
     "name": "stdout",
     "output_type": "stream",
     "text": [
      "Percent: [#############################-] 96.77%, , "
     ]
    },
    {
     "name": "stderr",
     "output_type": "stream",
     "text": [
      "Compute and save statistics in ../results/metrics_illustration/ directory\n"
     ]
    }
   ],
   "source": [
    "eulerian.run(drifter_list, path_dict_product, \n",
    "             first_date=first_date, last_date=last_date, \n",
    "             region=path_dict_region, sdepth=1, output_dir=outputdir) "
   ]
  },
  {
   "cell_type": "markdown",
   "id": "76dd140c",
   "metadata": {},
   "source": [
    "# 2. Eulerian RMS array outputs (Mean and std)"
   ]
  },
  {
   "cell_type": "code",
   "execution_count": 8,
   "id": "9a4d60e5",
   "metadata": {},
   "outputs": [
    {
     "data": {
      "text/html": [
       "<table width=100%>\n",
       "<tr>\n",
       "<td><b>Mean</b></td>\n",
       "<td>Eastward error</td>\n",
       "<td>Northward error</td>\n",
       "<td>Norm error</td>\n",
       "<td>Direction error</td>\n",
       "<td>Eastward speed</td>\n",
       "<td>Northward speed</td>\n",
       "<td>Field speed</td>\n",
       "<td>Drifter speed</td>\n",
       "<td>percentage</td>\n",
       "</tr>\n",
       "<tr>\n",
       "<td><b>BFN-QG</b></td>\n",
       "<td>0.136</td>\n",
       "<td>0.252</td>\n",
       "<td>0.200</td>\n",
       "<td>120.667</td>\n",
       "<td>0.124</td>\n",
       "<td>0.339</td>\n",
       "<td>0.361</td>\n",
       "<td>0.391</td>\n",
       "<td>47.787</td>\n",
       "</tr>\n",
       "</table>"
      ],
      "text/plain": [
       "<src.utils.DictTable at 0x7fcaf3333b00>"
      ]
     },
     "execution_count": 8,
     "metadata": {},
     "output_type": "execute_result"
    }
   ],
   "source": [
    "\n",
    "list_dict = [{'type_stat':'Mean','path':outputdir+'Eulerian_RMS_mean_BFNQG1.pyo','name':'BFN-QG'}] \n",
    "\n",
    "utils.DictTable(list_dict)  "
   ]
  },
  {
   "cell_type": "code",
   "execution_count": 9,
   "id": "3550c1c6",
   "metadata": {},
   "outputs": [
    {
     "data": {
      "text/html": [
       "<table width=100%>\n",
       "<tr>\n",
       "<td><b>std</b></td>\n",
       "<td>Eastward error</td>\n",
       "<td>Northward error</td>\n",
       "<td>Norm error</td>\n",
       "<td>Direction error</td>\n",
       "<td>Eastward speed</td>\n",
       "<td>Northward speed</td>\n",
       "<td>Field speed</td>\n",
       "<td>Drifter speed</td>\n",
       "<td>percentage</td>\n",
       "</tr>\n",
       "<tr>\n",
       "<td><b>BFN-QG</b></td>\n",
       "<td>0.064</td>\n",
       "<td>0.149</td>\n",
       "<td>0.125</td>\n",
       "<td>83.692</td>\n",
       "<td>0.116</td>\n",
       "<td>0.336</td>\n",
       "<td>0.216</td>\n",
       "<td>0.195</td>\n",
       "<td>0.174</td>\n",
       "</tr>\n",
       "</table>"
      ],
      "text/plain": [
       "<src.utils.DictTable at 0x7fcaf3333a90>"
      ]
     },
     "execution_count": 9,
     "metadata": {},
     "output_type": "execute_result"
    }
   ],
   "source": [
    "\n",
    "list_dict = [{'type_stat':'std','path':outputdir+'Eulerian_RMS_std_BFNQG1.pyo','name':'BFN-QG'}] \n",
    "\n",
    "utils.DictTable(list_dict)  "
   ]
  }
 ],
 "metadata": {
  "kernelspec": {
   "display_name": "Python 3",
   "language": "python",
   "name": "python3"
  },
  "language_info": {
   "codemirror_mode": {
    "name": "ipython",
    "version": 3
   },
   "file_extension": ".py",
   "mimetype": "text/x-python",
   "name": "python",
   "nbconvert_exporter": "python",
   "pygments_lexer": "ipython3",
   "version": "3.6.13"
  }
 },
 "nbformat": 4,
 "nbformat_minor": 5
}
