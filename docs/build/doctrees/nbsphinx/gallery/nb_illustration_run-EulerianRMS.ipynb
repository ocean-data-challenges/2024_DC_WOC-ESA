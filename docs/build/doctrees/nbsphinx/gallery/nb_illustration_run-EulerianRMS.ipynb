{
 "cells": [
  {
   "cell_type": "markdown",
   "id": "db7b0400",
   "metadata": {},
   "source": [
    "# Run Eulerian RMS"
   ]
  },
  {
   "cell_type": "markdown",
   "id": "7972227d",
   "metadata": {},
   "source": [
    "![header](../figures/logos_partenaires_DC_WOC-ESA.jpg)"
   ]
  },
  {
   "cell_type": "markdown",
   "id": "7aa23e22",
   "metadata": {},
   "source": [
    "## Velocity metrics package illustration: Run Eulerian RMS\n",
    " \n",
    "\n",
    "## Agulhas, BFN-QG\n",
    " \n"
   ]
  },
  {
   "cell_type": "markdown",
   "id": "3ff44f72",
   "metadata": {},
   "source": [
    "\n",
    "***\n",
    "**Authors:** Datlas <br>\n",
    "**Copyright:** 2024 Datlas <br>\n",
    "**License:** MIT\n",
    "\n",
    "<div class=\"alert alert-block alert-success\">\n",
    "<h1><center>Agulhas: BFNQG currents maps</center></h1>\n",
    " <h5><center> The notebook aims to illustrate how to run the velocity metrics. Here, the example uses surface current maps produced by the BFN-QG in the Agulhas region.</center></h5>\n",
    "</div>"
   ]
  },
  {
   "cell_type": "code",
   "execution_count": 1,
   "id": "59b14e60",
   "metadata": {},
   "outputs": [],
   "source": [
    "import velocity_metrics.utils.constant as const \n",
    "import velocity_metrics.eulerian.eulerian_drifters as eulerian  "
   ]
  },
  {
   "cell_type": "code",
   "execution_count": 2,
   "id": "effc7410",
   "metadata": {},
   "outputs": [],
   "source": [
    "import datetime\n",
    "import sys   \n",
    "sys.path.append('../')\n",
    "\n",
    "from src import utils"
   ]
  },
  {
   "cell_type": "markdown",
   "id": "fe736fd1",
   "metadata": {},
   "source": [
    "## Parameters"
   ]
  },
  {
   "cell_type": "markdown",
   "id": "d07d00fb",
   "metadata": {},
   "source": [
    "### Input directories"
   ]
  },
  {
   "cell_type": "code",
   "execution_count": 3,
   "id": "1f197ada",
   "metadata": {},
   "outputs": [],
   "source": [
    "input_dict = '../dc_data/DC_example_BFNQG_Agulhas/dictionnaries/'\n",
    "input_drifter = '../dc_data/drifter/'"
   ]
  },
  {
   "cell_type": "markdown",
   "id": "e9685206",
   "metadata": {},
   "source": [
    "### Output directory"
   ]
  },
  {
   "cell_type": "code",
   "execution_count": 4,
   "id": "d4ab8fa8",
   "metadata": {},
   "outputs": [],
   "source": [
    "outputdir = '../results/metrics_illustration/'"
   ]
  },
  {
   "cell_type": "markdown",
   "id": "f8972115",
   "metadata": {},
   "source": [
    "### Evaluated maps parameters"
   ]
  },
  {
   "cell_type": "code",
   "execution_count": 5,
   "id": "cfff4469",
   "metadata": {},
   "outputs": [],
   "source": [
    "path_dict_product = input_dict+'data_type_metric_illustration_bfnqg.json' \n",
    "\n",
    "depth = 0"
   ]
  },
  {
   "cell_type": "markdown",
   "id": "c82c08fd",
   "metadata": {},
   "source": [
    "### Region parameters"
   ]
  },
  {
   "cell_type": "code",
   "execution_count": 6,
   "id": "fffceea3",
   "metadata": {},
   "outputs": [],
   "source": [
    "path_dict_region = input_dict+'region_metric_illustration_Agulhas.json'"
   ]
  },
  {
   "cell_type": "markdown",
   "id": "35a89c86",
   "metadata": {},
   "source": [
    "### Drifter parameters"
   ]
  },
  {
   "cell_type": "code",
   "execution_count": 7,
   "id": "a515455d",
   "metadata": {},
   "outputs": [],
   "source": [
    "drifter_list = [input_drifter+'Drifters_AOML_region_T1_00m_20190101T000000Z_20200101T000000Z.pyo.gz']\n",
    "\n",
    "first_date = datetime.datetime.strptime('20190101T000000Z', const.FMT)\n",
    "last_date  = datetime.datetime.strptime('20190201T000000Z', const.FMT) "
   ]
  },
  {
   "cell_type": "markdown",
   "id": "097be0df",
   "metadata": {},
   "source": [
    "## 1. Eulerian RMS computation"
   ]
  },
  {
   "cell_type": "code",
   "execution_count": 8,
   "id": "c39dd4f6",
   "metadata": {},
   "outputs": [
    {
     "name": "stdout",
     "output_type": "stream",
     "text": [
      "Percent: [#############################-] 96.77%, , "
     ]
    },
    {
     "name": "stderr",
     "output_type": "stream",
     "text": [
      "Compute and save statistics in ../results/metrics_illustration/ directory\n"
     ]
    }
   ],
   "source": [
    "eulerian.run(drifter_list, path_dict_product, \n",
    "             first_date=first_date, last_date=last_date, \n",
    "             region=path_dict_region, sdepth=1, output_dir=outputdir) "
   ]
  },
  {
   "cell_type": "markdown",
   "id": "8ee40448",
   "metadata": {},
   "source": [
    "## 2. Eulerian RMS array outputs (Mean and std)"
   ]
  },
  {
   "cell_type": "code",
   "execution_count": 9,
   "id": "2698f90e",
   "metadata": {},
   "outputs": [
    {
     "data": {
      "text/html": [
       "<table width=100%>\n",
       "<tr>\n",
       "<td><b>Mean</b></td>\n",
       "<td>Norm Quadratic Error (%)</td>\n",
       "<td>Norm Explained Variance (%)</td>\n",
       "<td>Norm Correlation</td>\n",
       "<td>Norm RMSD</td>\n",
       "<td>Number of Points</td>\n",
       "</tr>\n",
       "<tr>\n",
       "<td><b>BFN-QG</b></td>\n",
       "<td>38.848</td>\n",
       "<td>87.128</td>\n",
       "<td>0.698</td>\n",
       "<td>0.317</td>\n",
       "<td>2890.000</td>\n",
       "</tr>\n",
       "</table>"
      ],
      "text/plain": [
       "<src.utils.DictTable at 0x12d212a80>"
      ]
     },
     "execution_count": 9,
     "metadata": {},
     "output_type": "execute_result"
    }
   ],
   "source": [
    "\n",
    "list_dict = [{'type_stat':'Mean','path':outputdir+'Eulerian_RMS_BFNQG1.pyo','name':'BFN-QG'}] \n",
    "\n",
    "utils.DictTable(list_dict)  "
   ]
  },
  {
   "cell_type": "code",
   "execution_count": 10,
   "id": "be11e441",
   "metadata": {},
   "outputs": [
    {
     "data": {
      "text/html": [
       "<table width=100%>\n",
       "<tr>\n",
       "<td><b>STD</b></td>\n",
       "<td>Direction difference</td>\n",
       "<td>Number of Points</td>\n",
       "</tr>\n",
       "<tr>\n",
       "<td><b>BFN-QG</b></td>\n",
       "<td>45.014</td>\n",
       "<td>2890.000</td>\n",
       "</tr>\n",
       "</table>"
      ],
      "text/plain": [
       "<src.utils.DictTable at 0x12ca8b260>"
      ]
     },
     "execution_count": 10,
     "metadata": {},
     "output_type": "execute_result"
    }
   ],
   "source": [
    "\n",
    "list_dict = [{'type_stat':'STD','path':outputdir+'Eulerian_STD_BFNQG1.pyo','name':'BFN-QG'}] \n",
    "\n",
    "utils.DictTable(list_dict,['Direction difference', 'Number of Points'])  "
   ]
  },
  {
   "cell_type": "code",
   "execution_count": null,
   "id": "0123ce14",
   "metadata": {},
   "outputs": [],
   "source": []
  }
 ],
 "metadata": {
  "kernelspec": {
   "display_name": "velocity_metrics",
   "language": "python",
   "name": "velocity_metrics"
  },
  "language_info": {
   "codemirror_mode": {
    "name": "ipython",
    "version": 3
   },
   "file_extension": ".py",
   "mimetype": "text/x-python",
   "name": "python",
   "nbconvert_exporter": "python",
   "pygments_lexer": "ipython3",
   "version": "3.12.4"
  }
 },
 "nbformat": 4,
 "nbformat_minor": 5
}
