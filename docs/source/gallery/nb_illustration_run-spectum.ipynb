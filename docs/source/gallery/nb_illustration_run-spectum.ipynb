{
 "cells": [
  {
   "cell_type": "markdown",
   "id": "52061f85",
   "metadata": {},
   "source": [
    "# Run spectrum "
   ]
  },
  {
   "cell_type": "markdown",
   "id": "7b12a530",
   "metadata": {},
   "source": [
    "![header](../figures/logos_partenaires_DC_WOC-ESA.jpg)"
   ]
  },
  {
   "cell_type": "markdown",
   "id": "968982bb",
   "metadata": {},
   "source": [
    "## Velocity metrics package illustration\n",
    "\n",
    "### Agulhas, BFN-QG\n",
    " \n"
   ]
  },
  {
   "cell_type": "markdown",
   "id": "e49c0f97",
   "metadata": {},
   "source": [
    "\n",
    "***\n",
    "**Authors:** Datlas <br>\n",
    "**Copyright:** 2024 Datlas <br>\n",
    "**License:** MIT\n",
    "\n",
    "<div class=\"alert alert-block alert-success\">\n",
    "<h1><center> Run spectrum: Agulhas, BFNQG currents maps</center></h1>\n",
    " <h5><center> The notebook aims to illustrate how to run the velocity metrics. Here, the example uses surface current maps produced by the BFN-QG in the Agulhas region.</center></h5>"
   ]
  },
  {
   "cell_type": "code",
   "execution_count": 1,
   "id": "e41945b7",
   "metadata": {},
   "outputs": [],
   "source": [
    "import velocity_metrics.spectrum.spectrum as spectrum "
   ]
  },
  {
   "cell_type": "markdown",
   "id": "55553303",
   "metadata": {},
   "source": [
    "\n",
    "\n",
    "## Parameters"
   ]
  },
  {
   "cell_type": "markdown",
   "id": "82eceacc",
   "metadata": {},
   "source": [
    "\n",
    "### Output directory"
   ]
  },
  {
   "cell_type": "code",
   "execution_count": 2,
   "id": "9a1c7d7d",
   "metadata": {},
   "outputs": [],
   "source": [
    "outputdir = '../results/metrics_illustration/'"
   ]
  },
  {
   "cell_type": "markdown",
   "id": "2e56d723",
   "metadata": {},
   "source": [
    "\n",
    "### Evaluated maps parameters"
   ]
  },
  {
   "cell_type": "code",
   "execution_count": 3,
   "id": "d5ccc7de",
   "metadata": {},
   "outputs": [],
   "source": [
    "path_dict_product =   'data_type_metric_illustration_bfnqg.json' \n",
    "\n",
    "depth = 0"
   ]
  },
  {
   "cell_type": "markdown",
   "id": "7677ad2e",
   "metadata": {},
   "source": [
    "\n",
    "### Region parameters"
   ]
  },
  {
   "cell_type": "code",
   "execution_count": 4,
   "id": "c615022f",
   "metadata": {},
   "outputs": [],
   "source": [
    "path_dict_region = 'region_metric_illustration_Agulhas.json'"
   ]
  },
  {
   "cell_type": "markdown",
   "id": "23346842",
   "metadata": {},
   "source": [
    "\n",
    "\n",
    "## 1. Compute spectrum "
   ]
  },
  {
   "cell_type": "code",
   "execution_count": 5,
   "id": "1cd22bc5",
   "metadata": {},
   "outputs": [
    {
     "name": "stdout",
     "output_type": "stream",
     "text": [
      "Percent: [#############################-] 96.77%, , "
     ]
    }
   ],
   "source": [
    "dic_spectrum = spectrum.run([path_dict_product], path_dict_region, depth, output_dir= outputdir)\n"
   ]
  },
  {
   "cell_type": "markdown",
   "id": "19862668",
   "metadata": {},
   "source": [
    "\n",
    "\n",
    "## 2. Plot spectrum "
   ]
  },
  {
   "cell_type": "code",
   "execution_count": 6,
   "id": "1f44eac5",
   "metadata": {},
   "outputs": [
    {
     "data": {
      "image/png": "[encoded data removed]",
      "text/plain": [
       "<Figure size 432x288 with 1 Axes>"
      ]
     },
     "metadata": {
      "needs_background": "light"
     },
     "output_type": "display_data"
    }
   ],
   "source": [
    "name_plot = 'Spectrum_metric_illustration_BFNQG.png'\n",
    "\n",
    "from glob import glob\n",
    "list_spectrum_pickles = glob(outputdir+'spectrum_BFNQG_region_metric_illustration_Agulhas*')\n",
    "\n",
    "spectrum.plot(list_spectrum_pickles,\n",
    "                      outfile=outputdir+name_plot)"
   ]
  }
 ],
 "metadata": {
  "kernelspec": {
   "display_name": "Python 3",
   "language": "python",
   "name": "python3"
  },
  "language_info": {
   "codemirror_mode": {
    "name": "ipython",
    "version": 3
   },
   "file_extension": ".py",
   "mimetype": "text/x-python",
   "name": "python",
   "nbconvert_exporter": "python",
   "pygments_lexer": "ipython3",
   "version": "3.6.13"
  }
 },
 "nbformat": 4,
 "nbformat_minor": 5
}
