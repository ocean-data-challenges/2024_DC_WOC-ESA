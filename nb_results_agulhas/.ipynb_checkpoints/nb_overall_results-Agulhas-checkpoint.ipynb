{
 "cells": [
  {
   "cell_type": "markdown",
   "id": "4efdb300",
   "metadata": {},
   "source": [
    "# Product comparison"
   ]
  },
  {
   "cell_type": "markdown",
   "id": "a81e311e",
   "metadata": {
    "tags": [
     "remove_cell"
    ]
   },
   "source": [
    "![header](../figures/logos_partenaires_DC_WOC-ESA.jpg)"
   ]
  },
  {
   "cell_type": "markdown",
   "id": "71f1fa5b",
   "metadata": {
    "tags": [
     "remove_cell"
    ]
   },
   "source": [
    "\n",
    "***\n",
    "**Authors:** Datlas <br>\n",
    "**Copyright:** 2023 Datlas <br>\n",
    "**License:** MIT"
   ]
  },
  {
   "cell_type": "markdown",
   "id": "f8055d90",
   "metadata": {},
   "source": [
    "<br>\n",
    "\n",
    "<br>\n",
    "\n",
    "\n",
    "<div class=\"alert alert-block alert-success\">\n",
    "<h1><center> <u> Agulhas results </u> </center></h1>  \n",
    "    "
   ]
  },
  {
   "cell_type": "markdown",
   "id": "2bfa612b",
   "metadata": {
    "tags": [
     "remove_cell"
    ]
   },
   "source": [
    "\n",
    "<div class=\"alert alert-block alert-success\"> \n",
    " <h5><center> The notebook aims to evaluate the surface current for all products in the Agulhas region.</center></h5> "
   ]
  },
  {
   "cell_type": "markdown",
   "id": "3cd9eac4",
   "metadata": {},
   "source": [
    "## <u> Compared products </u> \n",
    "\n",
    "<h3>\n",
    "    <ul>  \n",
    "        <li> GlobCurrent Geostrophic REP </li> \n",
    "        <li> GlobCurrent Total REP </li>\n",
    "        <li> WOC BFN-QG </li>\n",
    "        <li> WOC inertial global </li>\n",
    "    </ul>  \n",
    "\n",
    "</h3>"
   ]
  },
  {
   "cell_type": "code",
   "execution_count": 1,
   "id": "63371230",
   "metadata": {},
   "outputs": [],
   "source": [
    "from glob import glob\n",
    "import numpy as np\n",
    "import os\n",
    "import sys \n",
    "sys.path.append('../')\n",
    "import warnings\n",
    "import datetime\n",
    "warnings.filterwarnings(\"ignore\") "
   ]
  },
  {
   "cell_type": "code",
   "execution_count": 2,
   "id": "85ef1eaa",
   "metadata": {},
   "outputs": [],
   "source": [
    "import velocity_metrics.spectrum.spectrum as spectrum\n",
    "import velocity_metrics.lagrangian.drifters as drifters\n",
    "import velocity_metrics.utils.constant as const \n",
    "import velocity_metrics.eulerian.eulerian_drifters as eulerian \n",
    "import velocity_metrics.lagrangian.cumulative_distance as sde\n",
    "import velocity_metrics.fronts.compare_fronts_vel as compare_fronts_vel\n",
    "import velocity_metrics.fronts.box_metrics as box_metrics"
   ]
  },
  {
   "cell_type": "code",
   "execution_count": 3,
   "id": "5d1deed0",
   "metadata": {},
   "outputs": [],
   "source": [
    "from src import utils"
   ]
  },
  {
   "cell_type": "code",
   "execution_count": 4,
   "id": "8d5005e8",
   "metadata": {},
   "outputs": [],
   "source": [
    "\n",
    "outputdir = '../results/'\n"
   ]
  },
  {
   "cell_type": "markdown",
   "id": "43db6f59",
   "metadata": {},
   "source": [
    "<br>\n",
    "\n",
    "<br>\n",
    "\n",
    "## <u> 1. Spectrum </u> "
   ]
  },
  {
   "cell_type": "code",
   "execution_count": null,
   "id": "67b56d97",
   "metadata": {},
   "outputs": [],
   "source": [
    "dir_spectrum = '../dc_data/results-woc/spectrum/'\n",
    "\n",
    "name_plot = 'Spectrum_Agulhas.png'"
   ]
  },
  {
   "cell_type": "markdown",
   "id": "a977cfef",
   "metadata": {},
   "source": [
    "<br>\n",
    "\n",
    "<h2>At 0m</h2>"
   ]
  },
  {
   "cell_type": "code",
   "execution_count": null,
   "id": "4577d5a4",
   "metadata": {},
   "outputs": [],
   "source": [
    "list_spectrum_pickles = [dir_spectrum+'spectrum_008_047_region_T1_0.pyo',\n",
    "                         dir_spectrum+'spectrum_015_004_region_T1_0.pyo',\n",
    "                         dir_spectrum+'spectrum_woc-l4-cureul-glob-1h_region_T1_0.pyo',\n",
    "                         dir_spectrum+'spectrum_woc-l4-curgeo-bfn-3h_region_T1_0.pyo',]\n",
    "\n",
    "_ = spectrum.plot(list_spectrum_pickles,\n",
    "                      outfile=outputdir+name_plot)"
   ]
  },
  {
   "cell_type": "markdown",
   "id": "000603d8",
   "metadata": {},
   "source": [
    "<br>"
   ]
  },
  {
   "cell_type": "markdown",
   "id": "961f1f10",
   "metadata": {},
   "source": [
    "\n",
    "<h2>At 15m</h2>"
   ]
  },
  {
   "cell_type": "code",
   "execution_count": null,
   "id": "7a63e5a8",
   "metadata": {},
   "outputs": [],
   "source": [
    "list_spectrum_pickles = [dir_spectrum+'spectrum_008_047_region_T1_1.pyo',\n",
    "                         dir_spectrum+'spectrum_015_004_region_T1_1.pyo',\n",
    "                         dir_spectrum+'spectrum_woc-l4-cureul-glob-1h_region_T1_1.pyo',\n",
    "                         dir_spectrum+'spectrum_woc-l4-curgeo-bfn-3h_region_T1_1.pyo',]\n",
    "\n",
    "_ = spectrum.plot(list_spectrum_pickles,\n",
    "                      outfile=outputdir+name_plot)"
   ]
  },
  {
   "cell_type": "markdown",
   "id": "efd5d215",
   "metadata": {},
   "source": [
    "<br>\n",
    "\n",
    "<br>\n",
    "\n",
    "## <u> 2. Eulerian RMS </u>"
   ]
  },
  {
   "cell_type": "markdown",
   "id": "049e4cc1",
   "metadata": {},
   "source": [
    "<br>\n",
    "\n",
    "<h2>At 0m</h2>"
   ]
  },
  {
   "cell_type": "markdown",
   "id": "9c834585",
   "metadata": {},
   "source": [
    "<br>\n",
    "\n",
    "<h3>Mean error</h3>"
   ]
  },
  {
   "cell_type": "code",
   "execution_count": null,
   "id": "22febf14",
   "metadata": {},
   "outputs": [],
   "source": [
    "dir_eulerian = '../dc_data/results-woc/eulerian_analyse_pickle/'"
   ]
  },
  {
   "cell_type": "code",
   "execution_count": null,
   "id": "fdaab016",
   "metadata": {},
   "outputs": [],
   "source": [
    "\n",
    "list_dict = [{'type_stat':'Mean','path':dir_eulerian+'eulerian_rms_T1_008_047_00/Eulerian_RMS_mean_008_047.pyo','name':'GlobCurrents Geostrophic'},\n",
    "             {'type_stat':'Mean','path':dir_eulerian+'eulerian_rms_T1_cmems_015_004_00/Eulerian_RMS_mean_015_004.pyo','name':'GlobCurrents Total'},\n",
    "             {'type_stat':'Mean','path':dir_eulerian+'eulerian_rms_T1_woc-l4-curgeo-bfn-3h_00/Eulerian_RMS_mean_woc-l4-curgeo-bfn-3h.pyo','name':'BFN-QG'},\n",
    "             {'type_stat':'Mean','path':dir_eulerian+'eulerian_rms_T1_woc-l4-cureul-glob-1h_00/Eulerian_RMS_mean_woc-l4-cureul-glob-1h.pyo','name':'Global Inertial'}] \n",
    "\n",
    "utils.DictTable(list_dict)  "
   ]
  },
  {
   "cell_type": "markdown",
   "id": "8b39e6c9",
   "metadata": {},
   "source": [
    "<br>"
   ]
  },
  {
   "cell_type": "markdown",
   "id": "66417341",
   "metadata": {},
   "source": [
    "<br>\n",
    "\n",
    "<h3>Standard deviation error</h3>"
   ]
  },
  {
   "cell_type": "code",
   "execution_count": null,
   "id": "7ad69159",
   "metadata": {},
   "outputs": [],
   "source": [
    "\n",
    "list_dict = [{'type_stat':'std','path':dir_eulerian+'eulerian_rms_T1_008_047_00/Eulerian_RMS_std_008_047.pyo','name':'GlobCurrents Geostrophic'},\n",
    "             {'type_stat':'std','path':dir_eulerian+'eulerian_rms_T1_cmems_015_004_00/Eulerian_RMS_std_015_004.pyo','name':'GlobCurrents Total'},\n",
    "             {'type_stat':'std','path':dir_eulerian+'eulerian_rms_T1_woc-l4-curgeo-bfn-3h_00/Eulerian_RMS_std_woc-l4-curgeo-bfn-3h.pyo','name':'BFN-QG'},\n",
    "             {'type_stat':'Mean','path':dir_eulerian+'eulerian_rms_T1_woc-l4-cureul-glob-1h_00/Eulerian_RMS_std_woc-l4-cureul-glob-1h.pyo','name':'Global Inertial'}] \n",
    "\n",
    "utils.DictTable(list_dict)  "
   ]
  },
  {
   "cell_type": "markdown",
   "id": "cab100a3",
   "metadata": {},
   "source": [
    "<br>\n",
    "\n",
    "<h2>At 15m</h2>"
   ]
  },
  {
   "cell_type": "markdown",
   "id": "047a8955",
   "metadata": {},
   "source": [
    "<br>\n",
    "\n",
    "<h3>Mean error</h3>"
   ]
  },
  {
   "cell_type": "code",
   "execution_count": null,
   "id": "4da26304",
   "metadata": {},
   "outputs": [],
   "source": [
    "dir_eulerian = '../dc_data/results-woc/eulerian_analyse_pickle/'"
   ]
  },
  {
   "cell_type": "code",
   "execution_count": null,
   "id": "514eb49e",
   "metadata": {},
   "outputs": [],
   "source": [
    "\n",
    "list_dict = [{'type_stat':'Mean','path':dir_eulerian+'eulerian_rms_T1_008_047_15/Eulerian_RMS_mean_008_047.pyo','name':'GlobCurrents Geostrophic'},\n",
    "             {'type_stat':'Mean','path':dir_eulerian+'eulerian_rms_T1_cmems_015_004_15/Eulerian_RMS_mean_015_004.pyo','name':'GlobCurrents Total'},\n",
    "             {'type_stat':'Mean','path':dir_eulerian+'eulerian_rms_T1_woc-l4-curgeo-bfn-3h_15/Eulerian_RMS_mean_woc-l4-curgeo-bfn-3h.pyo','name':'BFN-QG'},\n",
    "             {'type_stat':'Mean','path':dir_eulerian+'eulerian_rms_T1_woc-l4-cureul-glob-1h_15/Eulerian_RMS_mean_woc-l4-cureul-glob-1h.pyo','name':'Global Inertial'}] \n",
    "\n",
    "utils.DictTable(list_dict)  "
   ]
  },
  {
   "cell_type": "markdown",
   "id": "5bbe9e15",
   "metadata": {},
   "source": [
    "<br>"
   ]
  },
  {
   "cell_type": "markdown",
   "id": "9d2b1fa2",
   "metadata": {},
   "source": [
    "<br>\n",
    "\n",
    "<h3>Standard deviation error</h3>"
   ]
  },
  {
   "cell_type": "code",
   "execution_count": null,
   "id": "8c3a0792",
   "metadata": {},
   "outputs": [],
   "source": [
    "\n",
    "list_dict = [{'type_stat':'std','path':dir_eulerian+'eulerian_rms_T1_008_047_15/Eulerian_RMS_std_008_047.pyo','name':'GlobCurrents Geostrophic'},\n",
    "             {'type_stat':'std','path':dir_eulerian+'eulerian_rms_T1_cmems_015_004_15/Eulerian_RMS_std_015_004.pyo','name':'GlobCurrents Total'},\n",
    "             {'type_stat':'std','path':dir_eulerian+'eulerian_rms_T1_woc-l4-curgeo-bfn-3h_15/Eulerian_RMS_std_woc-l4-curgeo-bfn-3h.pyo','name':'BFN-QG'},\n",
    "             {'type_stat':'Mean','path':dir_eulerian+'eulerian_rms_T1_woc-l4-cureul-glob-1h_15/Eulerian_RMS_std_woc-l4-cureul-glob-1h.pyo','name':'Global Inertial'}] \n",
    "\n",
    "utils.DictTable(list_dict)  "
   ]
  },
  {
   "cell_type": "markdown",
   "id": "e6a40d19",
   "metadata": {},
   "source": [
    "<br>\n",
    "\n",
    "<br>\n",
    "\n",
    "## <u> 3. Lagrangian Cumulative Distance</u> (at 15m)"
   ]
  },
  {
   "cell_type": "code",
   "execution_count": null,
   "id": "ec463ad8",
   "metadata": {},
   "outputs": [],
   "source": [
    "dir_drifter = '../dc_data/drifter_pickle/'\n",
    "\n",
    "dir_lcd = '../dc_data/results-woc/fictive_trajectories/'\n",
    "\n",
    "drifter_list = [dir_drifter + 'Drifters_AOML_region_T1_15m_20190101T000000Z_20200101T000000Z.pyo']\n",
    "\n",
    "all_path_artificial_drifters = [dir_lcd + 'woc_advection_T1_008_047_15m/data_type_008_047_region_T1.pyo',\n",
    "                                dir_lcd + 'woc_advection_T1_015_004_15m/data_type_cmems_015_004_daily_region_T1.pyo',\n",
    "                                dir_lcd + 'woc_advection_T1_woc-l4-curgeo-bfn-3h_15m/data_type_woc-l4-curgeo-bfn-3h_region_T1.pyo',\n",
    "                                dir_lcd + 'woc_advection_T1_woc-l4-cureul-glob-1h_15m/data_type_woc-l4-cureul-glob-1h_region_T1_1.pyo']\n",
    "\n",
    "all_outputfilename = ['SDE_region_T1_008_047_15m',\n",
    "                      'SDE_region_T1_015_004_15m',\n",
    "                      'SDE_region_T1_woc-l4-curgeo-bfn-3h_15m',\n",
    "                      'SDE_region_T1_woc-l4-cureul-glob-1h_15m']"
   ]
  },
  {
   "cell_type": "code",
   "execution_count": null,
   "id": "edefb02c",
   "metadata": {
    "tags": [
     "remove_cell"
    ]
   },
   "outputs": [],
   "source": [
    "\n",
    "\n",
    "for path_artificial_drifters, outputfilename in zip(all_path_artificial_drifters, all_outputfilename):\n",
    "    \n",
    "    print(outputfilename)\n",
    "\n",
    "    _ = sde.run(path_artificial_drifters, drifter_list, output_dir=outputdir, output_filename=outputfilename)\n"
   ]
  },
  {
   "cell_type": "code",
   "execution_count": null,
   "id": "943b1041",
   "metadata": {},
   "outputs": [],
   "source": [
    "list_sde = [outputdir + output_filename + '.pyo' for output_filename in all_outputfilename]\n",
    "\n",
    "outputfilename = 'SDE_region_T1_15m.png'\n",
    "\n",
    "_ = sde.plot(list_sde, output_dir=outputdir, output_filename=outputfilename)"
   ]
  },
  {
   "cell_type": "markdown",
   "id": "1584acd3",
   "metadata": {},
   "source": [
    "<br>\n",
    "\n",
    "<br>\n",
    "\n",
    "## <u>4. Fronts and currents consistency</u>"
   ]
  },
  {
   "cell_type": "code",
   "execution_count": null,
   "id": "54544713",
   "metadata": {},
   "outputs": [],
   "source": [
    "dir_fronts = '../dc_data/results-woc/fronts_vel_comparison/'"
   ]
  },
  {
   "cell_type": "code",
   "execution_count": null,
   "id": "10f2f03c",
   "metadata": {},
   "outputs": [],
   "source": [
    "\n",
    "dic_list = box_metrics.run(dir_fronts+'config_fronts.json', 2, \n",
    "                first_date='20190101T000000Z',\n",
    "                last_date ='20190115T000000Z',\n",
    "                output_dir=outputdir, \n",
    "                plot=True)"
   ]
  },
  {
   "cell_type": "code",
   "execution_count": null,
   "id": "b9889e50",
   "metadata": {},
   "outputs": [],
   "source": []
  },
  {
   "cell_type": "code",
   "execution_count": null,
   "id": "b6d0fe12",
   "metadata": {
    "tags": [
     "remove_cell"
    ]
   },
   "outputs": [],
   "source": [
    "# Save results as a markdown file\n",
    "\n",
    "! jupyter nbconvert --output-dir='../results'  nb_overall_results-Agulhas.ipynb --TagRemovePreprocessor.enabled=True --TagRemovePreprocessor.remove_cell_tags=\"['remove_cell', 'other_tag_to_remove']\" --to markdown --no-input --no-prompt\n"
   ]
  },
  {
   "cell_type": "code",
   "execution_count": null,
   "id": "9da0f5ad",
   "metadata": {},
   "outputs": [],
   "source": []
  }
 ],
 "metadata": {
  "celltoolbar": "Aucun(e)",
  "kernelspec": {
   "display_name": "Python 3",
   "language": "python",
   "name": "python3"
  },
  "language_info": {
   "codemirror_mode": {
    "name": "ipython",
    "version": 3
   },
   "file_extension": ".py",
   "mimetype": "text/x-python",
   "name": "python",
   "nbconvert_exporter": "python",
   "pygments_lexer": "ipython3",
   "version": "3.6.13"
  }
 },
 "nbformat": 4,
 "nbformat_minor": 5
}
