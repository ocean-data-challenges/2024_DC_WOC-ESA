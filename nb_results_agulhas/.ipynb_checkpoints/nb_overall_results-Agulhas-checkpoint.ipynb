{
 "cells": [
  {
   "cell_type": "markdown",
   "id": "bc04dba2",
   "metadata": {},
   "source": [
    "# Product comparison"
   ]
  },
  {
   "cell_type": "markdown",
   "id": "954fd0fa",
   "metadata": {
    "tags": [
     "remove_cell"
    ]
   },
   "source": [
    "![header](../figures/logos_partenaires_DC_WOC-ESA.jpg)"
   ]
  },
  {
   "cell_type": "markdown",
   "id": "bcea1191",
   "metadata": {
    "tags": [
     "remove_cell"
    ]
   },
   "source": [
    "\n",
    "***\n",
    "**Authors:** Datlas <br>\n",
    "**Copyright:** 2023 Datlas <br>\n",
    "**License:** MIT"
   ]
  },
  {
   "cell_type": "markdown",
   "id": "83502255",
   "metadata": {},
   "source": [
    "<br>\n",
    "\n",
    "<br>\n",
    "\n",
    "\n",
    "<div class=\"alert alert-block alert-success\">\n",
    "<h1><center> <u> Agulhas results </u> </center></h1>  \n",
    "    "
   ]
  },
  {
   "cell_type": "markdown",
   "id": "b8720e3b",
   "metadata": {
    "tags": [
     "remove_cell"
    ]
   },
   "source": [
    "\n",
    "<div class=\"alert alert-block alert-success\"> \n",
    " <h5><center> The notebook aims to evaluate the surface current for all products in the Agulhas region.</center></h5> "
   ]
  },
  {
   "cell_type": "markdown",
   "id": "f64cfd9e",
   "metadata": {},
   "source": [
    "## <u> Compared products </u> \n",
    "\n",
    "<h3>\n",
    "    <ul>  \n",
    "        <li> GlobCurrent Geostrophic REP </li> \n",
    "        <li> GlobCurrent Total REP </li>\n",
    "        <li> WOC BFN-QG </li>\n",
    "        <li> WOC inertial global </li>\n",
    "    </ul>  \n",
    "\n",
    "</h3>"
   ]
  },
  {
   "cell_type": "code",
   "execution_count": 1,
   "id": "e0472dbb",
   "metadata": {
    "scrolled": true
   },
   "outputs": [],
   "source": [
    "from glob import glob\n",
    "import numpy as np\n",
    "import os\n",
    "import sys \n",
    "sys.path.append('../')\n",
    "import warnings\n",
    "import datetime\n",
    "warnings.filterwarnings(\"ignore\")\n",
    "sys.path.remove('/Users/sammymetref/Documents/DataChallenges/DC_IW_crossoverCal/2022a_mapping_HFdynamic')"
   ]
  },
  {
   "cell_type": "code",
   "execution_count": 2,
   "id": "b1d0c30a",
   "metadata": {
    "scrolled": true
   },
   "outputs": [],
   "source": [
    "import velocity_metrics.spectrum.spectrum as spectrum\n",
    "import velocity_metrics.lagrangian.drifters as drifters\n",
    "import velocity_metrics.utils.constant as const \n",
    "import velocity_metrics.eulerian.eulerian_drifters as eulerian \n",
    "import velocity_metrics.lagrangian.cumulative_distance as sde\n",
    "import velocity_metrics.fronts.compare_fronts_vel as compare_fronts_vel\n",
    "import velocity_metrics.fronts.box_metrics as box_metrics"
   ]
  },
  {
   "cell_type": "code",
   "execution_count": 3,
   "id": "9e0a6be2",
   "metadata": {
    "scrolled": true
   },
   "outputs": [],
   "source": [
    "from src import utils"
   ]
  },
  {
   "cell_type": "code",
   "execution_count": 4,
   "id": "c2733b16",
   "metadata": {
    "scrolled": true
   },
   "outputs": [],
   "source": [
    "\n",
    "dir_spectrum = '../dc_data/results-woc/spectrum/'\n",
    "\n",
    "dir_eulerian = '../dc_data/results-woc/eulerian_analyse_pickle/'\n",
    "\n",
    "dir_lcd = 'output_package/'\n",
    "\n",
    "outputdir = '../results/'\n"
   ]
  },
  {
   "cell_type": "markdown",
   "id": "d2682d29",
   "metadata": {},
   "source": [
    "<br>\n",
    "\n",
    "<br>\n",
    "\n",
    "## <u> 1. Spectrum </u> "
   ]
  },
  {
   "cell_type": "code",
   "execution_count": 5,
   "id": "594fe52f",
   "metadata": {
    "scrolled": true
   },
   "outputs": [
    {
     "data": {
      "image/png": "[encoded data removed]",
      "text/plain": [
       "<Figure size 432x288 with 1 Axes>"
      ]
     },
     "metadata": {
      "needs_background": "light"
     },
     "output_type": "display_data"
    }
   ],
   "source": [
    "name_plot = 'Spectrum_Agulhas.png'\n",
    "\n",
    "list_spectrum_pickles = glob(dir_spectrum+'*region_T1_*')\n",
    "\n",
    "spectrum.plot(list_spectrum_pickles,\n",
    "                      outfile=outputdir+name_plot)"
   ]
  },
  {
   "cell_type": "markdown",
   "id": "1ffda997",
   "metadata": {},
   "source": [
    "<br>"
   ]
  },
  {
   "cell_type": "markdown",
   "id": "a8fb0321",
   "metadata": {},
   "source": [
    "<br>\n",
    "\n",
    "<br>\n",
    "\n",
    "## <u> 2. Eulerian RMS </u>"
   ]
  },
  {
   "cell_type": "markdown",
   "id": "cd02cc11",
   "metadata": {},
   "source": [
    "<br>\n",
    "\n",
    "<h3>Mean error</h3>"
   ]
  },
  {
   "cell_type": "code",
   "execution_count": 6,
   "id": "49414b88",
   "metadata": {
    "scrolled": true
   },
   "outputs": [
    {
     "data": {
      "text/html": [
       "<table width=100%>\n",
       "<tr>\n",
       "<td><b>Mean</b></td>\n",
       "<td>Eastward error</td>\n",
       "<td>Northward error</td>\n",
       "<td>Norm error</td>\n",
       "<td>Direction error</td>\n",
       "<td>Eastward speed</td>\n",
       "<td>Northward speed</td>\n",
       "<td>Field speed</td>\n",
       "<td>Drifter speed</td>\n",
       "<td>percentage</td>\n",
       "</tr>\n",
       "<tr>\n",
       "<td><b>GlobCurrents Geostrophic</b></td>\n",
       "<td>0.185</td>\n",
       "<td>0.175</td>\n",
       "<td>0.181</td>\n",
       "<td>84.718</td>\n",
       "<td>0.328</td>\n",
       "<td>0.318</td>\n",
       "<td>0.467</td>\n",
       "<td>0.543</td>\n",
       "<td>38.514</td>\n",
       "</tr>\n",
       "<tr>\n",
       "<td><b>GlobCurrents Total</b></td>\n",
       "<td>0.166</td>\n",
       "<td>0.169</td>\n",
       "<td>0.166</td>\n",
       "<td>77.047</td>\n",
       "<td>0.362</td>\n",
       "<td>0.325</td>\n",
       "<td>0.495</td>\n",
       "<td>0.554</td>\n",
       "<td>34.434</td>\n",
       "</tr>\n",
       "<tr>\n",
       "<td><b>BFN-QG</b></td>\n",
       "<td>0.179</td>\n",
       "<td>0.180</td>\n",
       "<td>0.183</td>\n",
       "<td>95.679</td>\n",
       "<td>0.335</td>\n",
       "<td>0.323</td>\n",
       "<td>0.467</td>\n",
       "<td>0.542</td>\n",
       "<td>40.735</td>\n",
       "</tr>\n",
       "</table>"
      ],
      "text/plain": [
       "<src.utils.DictTable at 0x7fce56e74a90>"
      ]
     },
     "execution_count": 6,
     "metadata": {},
     "output_type": "execute_result"
    }
   ],
   "source": [
    "\n",
    "list_dict = [{'type_stat':'Mean','path':dir_eulerian+'eulerian_rms_T1_008_047_00/Eulerian_RMS_mean_008_047.pyo','name':'GlobCurrents Geostrophic'},\n",
    "             {'type_stat':'Mean','path':dir_eulerian+'eulerian_rms_T1_cmems_015_004_00/Eulerian_RMS_mean_015_004.pyo','name':'GlobCurrents Total'},\n",
    "             {'type_stat':'Mean','path':dir_eulerian+'eulerian_rms_T1_woc-l4-curgeo-bfn-3h_00/Eulerian_RMS_mean_woc-l4-curgeo-bfn-3h.pyo','name':'BFN-QG'}] \n",
    "\n",
    "utils.DictTable(list_dict)  "
   ]
  },
  {
   "cell_type": "markdown",
   "id": "1775b197",
   "metadata": {},
   "source": [
    "<br>"
   ]
  },
  {
   "cell_type": "markdown",
   "id": "bbccbaec",
   "metadata": {},
   "source": [
    "<br>\n",
    "\n",
    "<h3>Standard deviation error</h3>"
   ]
  },
  {
   "cell_type": "code",
   "execution_count": 7,
   "id": "bf601560",
   "metadata": {
    "scrolled": true
   },
   "outputs": [
    {
     "data": {
      "text/html": [
       "<table width=100%>\n",
       "<tr>\n",
       "<td><b>std</b></td>\n",
       "<td>Eastward error</td>\n",
       "<td>Northward error</td>\n",
       "<td>Norm error</td>\n",
       "<td>Direction error</td>\n",
       "<td>Eastward speed</td>\n",
       "<td>Northward speed</td>\n",
       "<td>Field speed</td>\n",
       "<td>Drifter speed</td>\n",
       "<td>percentage</td>\n",
       "</tr>\n",
       "<tr>\n",
       "<td><b>GlobCurrents Geostrophic</b></td>\n",
       "<td>0.117</td>\n",
       "<td>0.112</td>\n",
       "<td>0.118</td>\n",
       "<td>64.674</td>\n",
       "<td>0.326</td>\n",
       "<td>0.317</td>\n",
       "<td>0.290</td>\n",
       "<td>0.298</td>\n",
       "<td>0.212</td>\n",
       "</tr>\n",
       "<tr>\n",
       "<td><b>GlobCurrents Total</b></td>\n",
       "<td>0.109</td>\n",
       "<td>0.110</td>\n",
       "<td>0.110</td>\n",
       "<td>60.797</td>\n",
       "<td>0.355</td>\n",
       "<td>0.325</td>\n",
       "<td>0.288</td>\n",
       "<td>0.299</td>\n",
       "<td>0.192</td>\n",
       "</tr>\n",
       "<tr>\n",
       "<td><b>BFN-QG</b></td>\n",
       "<td>0.113</td>\n",
       "<td>0.114</td>\n",
       "<td>0.116</td>\n",
       "<td>75.547</td>\n",
       "<td>0.334</td>\n",
       "<td>0.322</td>\n",
       "<td>0.287</td>\n",
       "<td>0.291</td>\n",
       "<td>0.226</td>\n",
       "</tr>\n",
       "</table>"
      ],
      "text/plain": [
       "<src.utils.DictTable at 0x7fce56e74d30>"
      ]
     },
     "execution_count": 7,
     "metadata": {},
     "output_type": "execute_result"
    }
   ],
   "source": [
    "\n",
    "list_dict = [{'type_stat':'std','path':dir_eulerian+'eulerian_rms_T1_008_047_00/Eulerian_RMS_std_008_047.pyo','name':'GlobCurrents Geostrophic'},\n",
    "             {'type_stat':'std','path':dir_eulerian+'eulerian_rms_T1_cmems_015_004_00/Eulerian_RMS_std_015_004.pyo','name':'GlobCurrents Total'},\n",
    "             {'type_stat':'std','path':dir_eulerian+'eulerian_rms_T1_woc-l4-curgeo-bfn-3h_00/Eulerian_RMS_std_woc-l4-curgeo-bfn-3h.pyo','name':'BFN-QG'}] \n",
    "\n",
    "utils.DictTable(list_dict)  "
   ]
  },
  {
   "cell_type": "markdown",
   "id": "cfc48299",
   "metadata": {},
   "source": [
    "<br>\n",
    "\n",
    "<br>\n",
    "\n",
    "## <u> 3. Lagrangian Cumulative Distance </u>"
   ]
  },
  {
   "cell_type": "code",
   "execution_count": 8,
   "id": "39afeec6",
   "metadata": {
    "tags": [
     "remove_cell"
    ]
   },
   "outputs": [
    {
     "name": "stdout",
     "output_type": "stream",
     "text": [
      "SDE_region_T1_008_047_00m\n"
     ]
    },
    {
     "name": "stderr",
     "output_type": "stream",
     "text": [
      "100%|██████████| 1617/1617 [00:00<00:00, 22799.42it/s]\n"
     ]
    },
    {
     "name": "stdout",
     "output_type": "stream",
     "text": [
      "SDE_region_T1_015_004_00m\n"
     ]
    },
    {
     "name": "stderr",
     "output_type": "stream",
     "text": [
      "100%|██████████| 2293/2293 [00:52<00:00, 44.01it/s] \n"
     ]
    },
    {
     "name": "stdout",
     "output_type": "stream",
     "text": [
      "SDE_region_T1_woc-l4-curgeo-bfn-3h_00m\n"
     ]
    },
    {
     "name": "stderr",
     "output_type": "stream",
     "text": [
      "100%|██████████| 2293/2293 [01:05<00:00, 35.09it/s]\n"
     ]
    }
   ],
   "source": [
    "drifter_list = ['../dc_data/drifter_pickle/Drifters_AOML_region_T1_00m_20190101T000000Z_20200101T000000Z.pyo']\n",
    "\n",
    "all_path_artificial_drifters = ['../dc_data/results-woc/fictive_trajectories/woc_advection_T1_008_047_00m/data_type_008_047_region_T1.pyo',\n",
    "                                '../dc_data/results-woc/fictive_trajectories/woc_advection_T1_015_004_00m/data_type_cmems_015_004_daily_region_T1.pyo',\n",
    "                                '../dc_data/results-woc/fictive_trajectories/woc_advection_T1_woc-l4-curgeo-bfn-3h_00m/data_type_woc-l4-curgeo-bfn-3h_region_T1.pyo']\n",
    "\n",
    "all_outputfilename = ['SDE_region_T1_008_047_00m',\n",
    "                      'SDE_region_T1_015_004_00m',\n",
    "                      'SDE_region_T1_woc-l4-curgeo-bfn-3h_00m']\n",
    "\n",
    "for path_artificial_drifters, outputfilename in zip(all_path_artificial_drifters, all_outputfilename):\n",
    "    \n",
    "    print(outputfilename)\n",
    "\n",
    "    _ = sde.run(path_artificial_drifters, drifter_list, output_dir=outputdir, output_filename=outputfilename)\n"
   ]
  },
  {
   "cell_type": "code",
   "execution_count": 10,
   "id": "cd93e22b",
   "metadata": {
    "scrolled": false
   },
   "outputs": [
    {
     "data": {
      "text/plain": [
       "<Figure size 432x288 with 0 Axes>"
      ]
     },
     "metadata": {},
     "output_type": "display_data"
    },
    {
     "data": {
      "image/png": "[encoded data removed]",
      "text/plain": [
       "<Figure size 720x720 with 4 Axes>"
      ]
     },
     "metadata": {
      "needs_background": "light"
     },
     "output_type": "display_data"
    }
   ],
   "source": [
    "list_sde = [outputdir + output_filename + '.pyo' for output_filename in all_outputfilename][1:]\n",
    "\n",
    "outputfilename = 'SDE_region_T1.png'\n",
    "\n",
    "_ = sde.plot(list_sde, output_dir=outputdir, output_filename=outputfilename)"
   ]
  },
  {
   "cell_type": "markdown",
   "id": "a7521534",
   "metadata": {},
   "source": [
    "<br>\n",
    "\n",
    "<br>\n",
    "\n",
    "## <u>4. Fronts and currents consistency</u>"
   ]
  },
  {
   "cell_type": "code",
   "execution_count": 11,
   "id": "fd481681",
   "metadata": {
    "scrolled": false
   },
   "outputs": [
    {
     "ename": "KeyError",
     "evalue": "'meansde'",
     "output_type": "error",
     "traceback": [
      "\u001b[0;31m---------------------------------------------------------------------------\u001b[0m",
      "\u001b[0;31mKeyError\u001b[0m                                  Traceback (most recent call last)",
      "\u001b[0;32m<ipython-input-9-01bed2301577>\u001b[0m in \u001b[0;36m<module>\u001b[0;34m()\u001b[0m\n\u001b[1;32m      3\u001b[0m \u001b[0moutputfilename\u001b[0m \u001b[0;34m=\u001b[0m \u001b[0;34m'SDE_region_T1.png'\u001b[0m\u001b[0;34m\u001b[0m\u001b[0;34m\u001b[0m\u001b[0m\n\u001b[1;32m      4\u001b[0m \u001b[0;34m\u001b[0m\u001b[0m\n\u001b[0;32m----> 5\u001b[0;31m \u001b[0m_\u001b[0m \u001b[0;34m=\u001b[0m \u001b[0msde\u001b[0m\u001b[0;34m.\u001b[0m\u001b[0mplot\u001b[0m\u001b[0;34m(\u001b[0m\u001b[0mlist_sde\u001b[0m\u001b[0;34m,\u001b[0m \u001b[0moutput_dir\u001b[0m\u001b[0;34m=\u001b[0m\u001b[0moutputdir\u001b[0m\u001b[0;34m,\u001b[0m \u001b[0moutput_filename\u001b[0m\u001b[0;34m=\u001b[0m\u001b[0moutputfilename\u001b[0m\u001b[0;34m)\u001b[0m\u001b[0;34m\u001b[0m\u001b[0;34m\u001b[0m\u001b[0m\n\u001b[0m",
      "\u001b[0;32m~/Documents/DataChallenges/Metrics_package/velocity_metrics/velocity_metrics/lagrangian/cumulative_distance.py\u001b[0m in \u001b[0;36mplot\u001b[0;34m(list_pickle, output_dir, output_filename)\u001b[0m\n\u001b[1;32m     48\u001b[0m          output_filename: Optional[str] = 'Sde.png'):\n\u001b[1;32m     49\u001b[0m     \u001b[0moutfile\u001b[0m \u001b[0;34m=\u001b[0m \u001b[0mos\u001b[0m\u001b[0;34m.\u001b[0m\u001b[0mpath\u001b[0m\u001b[0;34m.\u001b[0m\u001b[0mjoin\u001b[0m\u001b[0;34m(\u001b[0m\u001b[0moutput_dir\u001b[0m\u001b[0;34m,\u001b[0m \u001b[0moutput_filename\u001b[0m\u001b[0;34m)\u001b[0m\u001b[0;34m\u001b[0m\u001b[0;34m\u001b[0m\u001b[0m\n\u001b[0;32m---> 50\u001b[0;31m     \u001b[0mplot_all_sde\u001b[0m\u001b[0;34m(\u001b[0m\u001b[0mlist_pickle\u001b[0m\u001b[0;34m,\u001b[0m \u001b[0moutfile\u001b[0m\u001b[0;34m)\u001b[0m\u001b[0;34m\u001b[0m\u001b[0;34m\u001b[0m\u001b[0m\n\u001b[0m\u001b[1;32m     51\u001b[0m \u001b[0;34m\u001b[0m\u001b[0m\n\u001b[1;32m     52\u001b[0m \u001b[0;34m\u001b[0m\u001b[0m\n",
      "\u001b[0;32m~/Documents/DataChallenges/Metrics_package/velocity_metrics/velocity_metrics/lagrangian/cumulative_distance.py\u001b[0m in \u001b[0;36mplot_all_sde\u001b[0;34m(list_pickle_sde, fileout)\u001b[0m\n\u001b[1;32m     63\u001b[0m         \u001b[0;32mwith\u001b[0m \u001b[0mopen\u001b[0m\u001b[0;34m(\u001b[0m\u001b[0mifile\u001b[0m\u001b[0;34m,\u001b[0m \u001b[0;34m'rb'\u001b[0m\u001b[0;34m)\u001b[0m \u001b[0;32mas\u001b[0m \u001b[0mf\u001b[0m\u001b[0;34m:\u001b[0m\u001b[0;34m\u001b[0m\u001b[0;34m\u001b[0m\u001b[0m\n\u001b[1;32m     64\u001b[0m             \u001b[0mdic\u001b[0m \u001b[0;34m=\u001b[0m \u001b[0mpickle\u001b[0m\u001b[0;34m.\u001b[0m\u001b[0mload\u001b[0m\u001b[0;34m(\u001b[0m\u001b[0mf\u001b[0m\u001b[0;34m)\u001b[0m\u001b[0;34m\u001b[0m\u001b[0;34m\u001b[0m\u001b[0m\n\u001b[0;32m---> 65\u001b[0;31m         \u001b[0mdic_mean\u001b[0m \u001b[0;34m=\u001b[0m \u001b[0maverage_sde\u001b[0m\u001b[0;34m(\u001b[0m\u001b[0mdic\u001b[0m\u001b[0;34m)\u001b[0m\u001b[0;34m\u001b[0m\u001b[0;34m\u001b[0m\u001b[0m\n\u001b[0m\u001b[1;32m     66\u001b[0m         \u001b[0;32mif\u001b[0m \u001b[0;34m'color'\u001b[0m \u001b[0;32mnot\u001b[0m \u001b[0;32min\u001b[0m \u001b[0mdic_mean\u001b[0m\u001b[0;34m.\u001b[0m\u001b[0mkeys\u001b[0m\u001b[0;34m(\u001b[0m\u001b[0;34m)\u001b[0m\u001b[0;34m:\u001b[0m\u001b[0;34m\u001b[0m\u001b[0;34m\u001b[0m\u001b[0m\n\u001b[1;32m     67\u001b[0m             \u001b[0mdic_mean\u001b[0m\u001b[0;34m[\u001b[0m\u001b[0;34m'color'\u001b[0m\u001b[0;34m]\u001b[0m \u001b[0;34m=\u001b[0m \u001b[0mcol\u001b[0m\u001b[0;34m\u001b[0m\u001b[0;34m\u001b[0m\u001b[0m\n",
      "\u001b[0;32m~/Documents/DataChallenges/Metrics_package/velocity_metrics/velocity_metrics/lagrangian/cumulative_distance.py\u001b[0m in \u001b[0;36maverage_sde\u001b[0;34m(dic, list_stat, list_attr)\u001b[0m\n\u001b[1;32m    116\u001b[0m         \u001b[0mi\u001b[0m \u001b[0;34m+=\u001b[0m \u001b[0;36m1\u001b[0m\u001b[0;34m\u001b[0m\u001b[0;34m\u001b[0m\u001b[0m\n\u001b[1;32m    117\u001b[0m     \u001b[0;32mfor\u001b[0m \u001b[0mkey\u001b[0m \u001b[0;32min\u001b[0m \u001b[0mlist_stat\u001b[0m\u001b[0;34m:\u001b[0m\u001b[0;34m\u001b[0m\u001b[0;34m\u001b[0m\u001b[0m\n\u001b[0;32m--> 118\u001b[0;31m         \u001b[0mdic_arr\u001b[0m\u001b[0;34m[\u001b[0m\u001b[0mkey\u001b[0m\u001b[0;34m]\u001b[0m \u001b[0;34m=\u001b[0m \u001b[0mdic_arr\u001b[0m\u001b[0;34m[\u001b[0m\u001b[0mkey\u001b[0m\u001b[0;34m]\u001b[0m \u001b[0;34m/\u001b[0m \u001b[0mi\u001b[0m\u001b[0;34m\u001b[0m\u001b[0;34m\u001b[0m\u001b[0m\n\u001b[0m\u001b[1;32m    119\u001b[0m     \u001b[0;32mreturn\u001b[0m \u001b[0mdic_arr\u001b[0m\u001b[0;34m\u001b[0m\u001b[0;34m\u001b[0m\u001b[0m\n\u001b[1;32m    120\u001b[0m \u001b[0;34m\u001b[0m\u001b[0m\n",
      "\u001b[0;31mKeyError\u001b[0m: 'meansde'"
     ]
    },
    {
     "name": "stdout",
     "output_type": "stream",
     "text": [
      "332\n",
      "14\n",
      "332\n",
      "8.937580441379338e-05\n",
      "0.002086119946779534\n"
     ]
    },
    {
     "name": "stderr",
     "output_type": "stream",
     "text": [
      "ERROR LENGTH 72165 4656\n",
      "ERROR LENGTH 72165 4656\n",
      "ERROR LENGTH 72165 4656\n"
     ]
    },
    {
     "name": "stdout",
     "output_type": "stream",
     "text": [
      "6.192268438138431e-05\n"
     ]
    },
    {
     "ename": "SystemExit",
     "evalue": "1",
     "output_type": "error",
     "traceback": [
      "An exception has occurred, use %tb to see the full traceback.\n",
      "\u001b[0;31mSystemExit\u001b[0m\u001b[0;31m:\u001b[0m 1\n"
     ]
    },
    {
     "data": {
      "image/png": "[encoded data removed]",
      "text/plain": [
       "<Figure size 432x288 with 1 Axes>"
      ]
     },
     "metadata": {
      "needs_background": "light"
     },
     "output_type": "display_data"
    }
   ],
   "source": [
    "%tb \n",
    "\n",
    "\n",
    "dic_list = box_metrics.run('../dc_data/results-woc/fronts_vel_comparison/config_fronts.json', 2, \n",
    "                first_date='20190101T000000Z',\n",
    "                last_date ='20190115T000000Z',\n",
    "                output_dir=outputdir, \n",
    "                plot=True)"
   ]
  },
  {
   "cell_type": "code",
   "execution_count": null,
   "id": "4030ca3a",
   "metadata": {},
   "outputs": [],
   "source": []
  },
  {
   "cell_type": "code",
   "execution_count": 12,
   "id": "60ca8401",
   "metadata": {
    "scrolled": false,
    "tags": [
     "remove_cell"
    ]
   },
   "outputs": [
    {
     "name": "stdout",
     "output_type": "stream",
     "text": [
      "[NbConvertApp] Converting notebook nb_overall_results-Agulhas.ipynb to markdown\n",
      "[NbConvertApp] Executing notebook with kernel: python3\n",
      "[NbConvertApp] ERROR | Error while converting 'nb_overall_results-Agulhas.ipynb'\n",
      "Traceback (most recent call last):\n",
      "  File \"/Users/sammymetref/miniconda3/lib/python3.6/site-packages/nbconvert/nbconvertapp.py\", line 407, in export_single_notebook\n",
      "    output, resources = self.exporter.from_filename(notebook_filename, resources=resources)\n",
      "  File \"/Users/sammymetref/miniconda3/lib/python3.6/site-packages/nbconvert/exporters/exporter.py\", line 178, in from_filename\n",
      "    return self.from_file(f, resources=resources, **kw)\n",
      "  File \"/Users/sammymetref/miniconda3/lib/python3.6/site-packages/nbconvert/exporters/exporter.py\", line 196, in from_file\n",
      "    return self.from_notebook_node(nbformat.read(file_stream, as_version=4), resources=resources, **kw)\n",
      "  File \"/Users/sammymetref/miniconda3/lib/python3.6/site-packages/nbconvert/exporters/templateexporter.py\", line 300, in from_notebook_node\n",
      "    nb_copy, resources = super(TemplateExporter, self).from_notebook_node(nb, resources, **kw)\n",
      "  File \"/Users/sammymetref/miniconda3/lib/python3.6/site-packages/nbconvert/exporters/exporter.py\", line 138, in from_notebook_node\n",
      "    nb_copy, resources = self._preprocess(nb_copy, resources)\n",
      "  File \"/Users/sammymetref/miniconda3/lib/python3.6/site-packages/nbconvert/exporters/exporter.py\", line 315, in _preprocess\n",
      "    nbc, resc = preprocessor(nbc, resc)\n",
      "  File \"/Users/sammymetref/miniconda3/lib/python3.6/site-packages/nbconvert/preprocessors/base.py\", line 47, in __call__\n",
      "    return self.preprocess(nb, resources)\n",
      "  File \"/Users/sammymetref/miniconda3/lib/python3.6/site-packages/nbconvert/preprocessors/execute.py\", line 354, in preprocess\n",
      "    nb, resources = super(ExecutePreprocessor, self).preprocess(nb, resources)\n",
      "  File \"/Users/sammymetref/miniconda3/lib/python3.6/site-packages/nbconvert/preprocessors/base.py\", line 69, in preprocess\n",
      "    nb.cells[index], resources = self.preprocess_cell(cell, resources, index)\n",
      "  File \"/Users/sammymetref/miniconda3/lib/python3.6/site-packages/nbconvert/preprocessors/execute.py\", line 378, in preprocess_cell\n",
      "    raise CellExecutionError.from_cell_and_msg(cell, out)\n",
      "nbconvert.preprocessors.execute.CellExecutionError: An error occurred while executing the following cell:\n",
      "------------------\n",
      "list_sde = [outputdir + output_filename + '.pyo' for output_filename in all_outputfilename][:]\n",
      "\n",
      "outputfilename = 'SDE_region_T1.png'\n",
      "\n",
      "_ = sde.plot(list_sde, output_dir=outputdir, output_filename=outputfilename)\n",
      "------------------\n",
      "\n",
      "\u001b[0;31m---------------------------------------------------------------------------\u001b[0m\n",
      "\u001b[0;31mNameError\u001b[0m                                 Traceback (most recent call last)\n",
      "\u001b[0;32m<ipython-input-8-01bed2301577>\u001b[0m in \u001b[0;36m<module>\u001b[0;34m()\u001b[0m\n",
      "\u001b[0;32m----> 1\u001b[0;31m \u001b[0mlist_sde\u001b[0m \u001b[0;34m=\u001b[0m \u001b[0;34m[\u001b[0m\u001b[0moutputdir\u001b[0m \u001b[0;34m+\u001b[0m \u001b[0moutput_filename\u001b[0m \u001b[0;34m+\u001b[0m \u001b[0;34m'.pyo'\u001b[0m \u001b[0;32mfor\u001b[0m \u001b[0moutput_filename\u001b[0m \u001b[0;32min\u001b[0m \u001b[0mall_outputfilename\u001b[0m\u001b[0;34m]\u001b[0m\u001b[0;34m[\u001b[0m\u001b[0;34m:\u001b[0m\u001b[0;34m]\u001b[0m\u001b[0;34m\u001b[0m\u001b[0;34m\u001b[0m\u001b[0m\n",
      "\u001b[0m\u001b[1;32m      2\u001b[0m \u001b[0;34m\u001b[0m\u001b[0m\n",
      "\u001b[1;32m      3\u001b[0m \u001b[0moutputfilename\u001b[0m \u001b[0;34m=\u001b[0m \u001b[0;34m'SDE_region_T1.png'\u001b[0m\u001b[0;34m\u001b[0m\u001b[0;34m\u001b[0m\u001b[0m\n",
      "\u001b[1;32m      4\u001b[0m \u001b[0;34m\u001b[0m\u001b[0m\n",
      "\u001b[1;32m      5\u001b[0m \u001b[0m_\u001b[0m \u001b[0;34m=\u001b[0m \u001b[0msde\u001b[0m\u001b[0;34m.\u001b[0m\u001b[0mplot\u001b[0m\u001b[0;34m(\u001b[0m\u001b[0mlist_sde\u001b[0m\u001b[0;34m,\u001b[0m \u001b[0moutput_dir\u001b[0m\u001b[0;34m=\u001b[0m\u001b[0moutputdir\u001b[0m\u001b[0;34m,\u001b[0m \u001b[0moutput_filename\u001b[0m\u001b[0;34m=\u001b[0m\u001b[0moutputfilename\u001b[0m\u001b[0;34m)\u001b[0m\u001b[0;34m\u001b[0m\u001b[0;34m\u001b[0m\u001b[0m\n",
      "\n",
      "\u001b[0;31mNameError\u001b[0m: name 'all_outputfilename' is not defined\n",
      "NameError: name 'all_outputfilename' is not defined\n",
      "\n"
     ]
    }
   ],
   "source": [
    "# Save results as a pdf file\n",
    "\n",
    "! jupyter nbconvert --output-dir='../results'  nb_overall_results-Agulhas.ipynb --TagRemovePreprocessor.enabled=True --TagRemovePreprocessor.remove_cell_tags=\"['remove_cell', 'other_tag_to_remove']\" --to markdown --no-input --no-prompt\n"
   ]
  },
  {
   "cell_type": "code",
   "execution_count": null,
   "id": "72759ffa",
   "metadata": {},
   "outputs": [],
   "source": []
  }
 ],
 "metadata": {
  "celltoolbar": "Aucun(e)",
  "kernelspec": {
   "display_name": "Python 3",
   "language": "python",
   "name": "python3"
  },
  "language_info": {
   "codemirror_mode": {
    "name": "ipython",
    "version": 3
   },
   "file_extension": ".py",
   "mimetype": "text/x-python",
   "name": "python",
   "nbconvert_exporter": "python",
   "pygments_lexer": "ipython3",
   "version": "3.6.13"
  }
 },
 "nbformat": 4,
 "nbformat_minor": 5
}
